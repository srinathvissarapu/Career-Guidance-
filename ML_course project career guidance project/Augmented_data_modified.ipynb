{
  "cells": [
    {
      "cell_type": "code",
      "execution_count": 33,
      "metadata": {
        "colab": {
          "base_uri": "https://localhost:8080/",
          "height": 421
        },
        "id": "IAG-RKNw9Yyk",
        "outputId": "01d7e234-3f2e-44d6-aa3b-2786def3e507"
      },
      "outputs": [
        {
          "name": "stdout",
          "output_type": "stream",
          "text": [
            "(62, 22)\n"
          ]
        },
        {
          "data": {
            "text/html": [
              "\n",
              "  <div id=\"df-13a0b86f-4387-4945-a17b-527bb208d6e9\">\n",
              "    <div class=\"colab-df-container\">\n",
              "      <div>\n",
              "<style scoped>\n",
              "    .dataframe tbody tr th:only-of-type {\n",
              "        vertical-align: middle;\n",
              "    }\n",
              "\n",
              "    .dataframe tbody tr th {\n",
              "        vertical-align: top;\n",
              "    }\n",
              "\n",
              "    .dataframe thead th {\n",
              "        text-align: right;\n",
              "    }\n",
              "</style>\n",
              "<table border=\"1\" class=\"dataframe\">\n",
              "  <thead>\n",
              "    <tr style=\"text-align: right;\">\n",
              "      <th></th>\n",
              "      <th>ML</th>\n",
              "      <th>YOE:ML</th>\n",
              "      <th>DL</th>\n",
              "      <th>YOE:DL</th>\n",
              "      <th>Image Processing</th>\n",
              "      <th>YOE:Image Processing</th>\n",
              "      <th>Python</th>\n",
              "      <th>YOE:python</th>\n",
              "      <th>Java</th>\n",
              "      <th>YOE:Java</th>\n",
              "      <th>...</th>\n",
              "      <th>HTML</th>\n",
              "      <th>YOE:HTML</th>\n",
              "      <th>CSS</th>\n",
              "      <th>YOE:CSS</th>\n",
              "      <th>MYSQL</th>\n",
              "      <th>YOE:MYSQL</th>\n",
              "      <th>NLP</th>\n",
              "      <th>YOE:NLP</th>\n",
              "      <th>CGPA</th>\n",
              "      <th>ROLE</th>\n",
              "    </tr>\n",
              "  </thead>\n",
              "  <tbody>\n",
              "    <tr>\n",
              "      <th>0</th>\n",
              "      <td>yes</td>\n",
              "      <td>1</td>\n",
              "      <td>yes</td>\n",
              "      <td>1</td>\n",
              "      <td>yes</td>\n",
              "      <td>0</td>\n",
              "      <td>yes</td>\n",
              "      <td>1</td>\n",
              "      <td>no</td>\n",
              "      <td>0</td>\n",
              "      <td>...</td>\n",
              "      <td>yes</td>\n",
              "      <td>2</td>\n",
              "      <td>yes</td>\n",
              "      <td>2</td>\n",
              "      <td>yes</td>\n",
              "      <td>2</td>\n",
              "      <td>yes</td>\n",
              "      <td>1</td>\n",
              "      <td>2.94</td>\n",
              "      <td>Full stack Developer</td>\n",
              "    </tr>\n",
              "    <tr>\n",
              "      <th>1</th>\n",
              "      <td>yes</td>\n",
              "      <td>2</td>\n",
              "      <td>yes</td>\n",
              "      <td>2</td>\n",
              "      <td>yes</td>\n",
              "      <td>3</td>\n",
              "      <td>yes</td>\n",
              "      <td>4</td>\n",
              "      <td>yes</td>\n",
              "      <td>2</td>\n",
              "      <td>...</td>\n",
              "      <td>no</td>\n",
              "      <td>0</td>\n",
              "      <td>no</td>\n",
              "      <td>0</td>\n",
              "      <td>no</td>\n",
              "      <td>0</td>\n",
              "      <td>no</td>\n",
              "      <td>0</td>\n",
              "      <td>2.63</td>\n",
              "      <td>AIML engineer</td>\n",
              "    </tr>\n",
              "    <tr>\n",
              "      <th>2</th>\n",
              "      <td>yes</td>\n",
              "      <td>2</td>\n",
              "      <td>yes</td>\n",
              "      <td>2</td>\n",
              "      <td>yes</td>\n",
              "      <td>4</td>\n",
              "      <td>yes</td>\n",
              "      <td>2</td>\n",
              "      <td>yes</td>\n",
              "      <td>1</td>\n",
              "      <td>...</td>\n",
              "      <td>no</td>\n",
              "      <td>0</td>\n",
              "      <td>no</td>\n",
              "      <td>0</td>\n",
              "      <td>yes</td>\n",
              "      <td>1</td>\n",
              "      <td>no</td>\n",
              "      <td>0</td>\n",
              "      <td>2.45</td>\n",
              "      <td>AIML engineer</td>\n",
              "    </tr>\n",
              "    <tr>\n",
              "      <th>3</th>\n",
              "      <td>yes</td>\n",
              "      <td>1</td>\n",
              "      <td>yes</td>\n",
              "      <td>1</td>\n",
              "      <td>no</td>\n",
              "      <td>0</td>\n",
              "      <td>yes</td>\n",
              "      <td>1</td>\n",
              "      <td>yes</td>\n",
              "      <td>1</td>\n",
              "      <td>...</td>\n",
              "      <td>no</td>\n",
              "      <td>0</td>\n",
              "      <td>yes</td>\n",
              "      <td>2</td>\n",
              "      <td>yes</td>\n",
              "      <td>2</td>\n",
              "      <td>no</td>\n",
              "      <td>0</td>\n",
              "      <td>3.71</td>\n",
              "      <td>Software Developer</td>\n",
              "    </tr>\n",
              "    <tr>\n",
              "      <th>4</th>\n",
              "      <td>yes</td>\n",
              "      <td>2</td>\n",
              "      <td>yes</td>\n",
              "      <td>1</td>\n",
              "      <td>no</td>\n",
              "      <td>0</td>\n",
              "      <td>yes</td>\n",
              "      <td>1</td>\n",
              "      <td>yes</td>\n",
              "      <td>1</td>\n",
              "      <td>...</td>\n",
              "      <td>yes</td>\n",
              "      <td>3</td>\n",
              "      <td>yes</td>\n",
              "      <td>3</td>\n",
              "      <td>yes</td>\n",
              "      <td>2</td>\n",
              "      <td>yes</td>\n",
              "      <td>0</td>\n",
              "      <td>2.90</td>\n",
              "      <td>Software Developer</td>\n",
              "    </tr>\n",
              "  </tbody>\n",
              "</table>\n",
              "<p>5 rows × 22 columns</p>\n",
              "</div>\n",
              "      <button class=\"colab-df-convert\" onclick=\"convertToInteractive('df-13a0b86f-4387-4945-a17b-527bb208d6e9')\"\n",
              "              title=\"Convert this dataframe to an interactive table.\"\n",
              "              style=\"display:none;\">\n",
              "        \n",
              "  <svg xmlns=\"http://www.w3.org/2000/svg\" height=\"24px\"viewBox=\"0 0 24 24\"\n",
              "       width=\"24px\">\n",
              "    <path d=\"M0 0h24v24H0V0z\" fill=\"none\"/>\n",
              "    <path d=\"M18.56 5.44l.94 2.06.94-2.06 2.06-.94-2.06-.94-.94-2.06-.94 2.06-2.06.94zm-11 1L8.5 8.5l.94-2.06 2.06-.94-2.06-.94L8.5 2.5l-.94 2.06-2.06.94zm10 10l.94 2.06.94-2.06 2.06-.94-2.06-.94-.94-2.06-.94 2.06-2.06.94z\"/><path d=\"M17.41 7.96l-1.37-1.37c-.4-.4-.92-.59-1.43-.59-.52 0-1.04.2-1.43.59L10.3 9.45l-7.72 7.72c-.78.78-.78 2.05 0 2.83L4 21.41c.39.39.9.59 1.41.59.51 0 1.02-.2 1.41-.59l7.78-7.78 2.81-2.81c.8-.78.8-2.07 0-2.86zM5.41 20L4 18.59l7.72-7.72 1.47 1.35L5.41 20z\"/>\n",
              "  </svg>\n",
              "      </button>\n",
              "      \n",
              "  <style>\n",
              "    .colab-df-container {\n",
              "      display:flex;\n",
              "      flex-wrap:wrap;\n",
              "      gap: 12px;\n",
              "    }\n",
              "\n",
              "    .colab-df-convert {\n",
              "      background-color: #E8F0FE;\n",
              "      border: none;\n",
              "      border-radius: 50%;\n",
              "      cursor: pointer;\n",
              "      display: none;\n",
              "      fill: #1967D2;\n",
              "      height: 32px;\n",
              "      padding: 0 0 0 0;\n",
              "      width: 32px;\n",
              "    }\n",
              "\n",
              "    .colab-df-convert:hover {\n",
              "      background-color: #E2EBFA;\n",
              "      box-shadow: 0px 1px 2px rgba(60, 64, 67, 0.3), 0px 1px 3px 1px rgba(60, 64, 67, 0.15);\n",
              "      fill: #174EA6;\n",
              "    }\n",
              "\n",
              "    [theme=dark] .colab-df-convert {\n",
              "      background-color: #3B4455;\n",
              "      fill: #D2E3FC;\n",
              "    }\n",
              "\n",
              "    [theme=dark] .colab-df-convert:hover {\n",
              "      background-color: #434B5C;\n",
              "      box-shadow: 0px 1px 3px 1px rgba(0, 0, 0, 0.15);\n",
              "      filter: drop-shadow(0px 1px 2px rgba(0, 0, 0, 0.3));\n",
              "      fill: #FFFFFF;\n",
              "    }\n",
              "  </style>\n",
              "\n",
              "      <script>\n",
              "        const buttonEl =\n",
              "          document.querySelector('#df-13a0b86f-4387-4945-a17b-527bb208d6e9 button.colab-df-convert');\n",
              "        buttonEl.style.display =\n",
              "          google.colab.kernel.accessAllowed ? 'block' : 'none';\n",
              "\n",
              "        async function convertToInteractive(key) {\n",
              "          const element = document.querySelector('#df-13a0b86f-4387-4945-a17b-527bb208d6e9');\n",
              "          const dataTable =\n",
              "            await google.colab.kernel.invokeFunction('convertToInteractive',\n",
              "                                                     [key], {});\n",
              "          if (!dataTable) return;\n",
              "\n",
              "          const docLinkHtml = 'Like what you see? Visit the ' +\n",
              "            '<a target=\"_blank\" href=https://colab.research.google.com/notebooks/data_table.ipynb>data table notebook</a>'\n",
              "            + ' to learn more about interactive tables.';\n",
              "          element.innerHTML = '';\n",
              "          dataTable['output_type'] = 'display_data';\n",
              "          await google.colab.output.renderOutput(dataTable, element);\n",
              "          const docLink = document.createElement('div');\n",
              "          docLink.innerHTML = docLinkHtml;\n",
              "          element.appendChild(docLink);\n",
              "        }\n",
              "      </script>\n",
              "    </div>\n",
              "  </div>\n",
              "  "
            ],
            "text/plain": [
              "    ML  YOE:ML   DL  YOE:DL Image Processing  YOE:Image Processing Python  \\\n",
              "0  yes       1  yes       1              yes                     0    yes   \n",
              "1  yes       2  yes       2              yes                     3    yes   \n",
              "2  yes       2  yes       2              yes                     4    yes   \n",
              "3  yes       1  yes       1               no                     0    yes   \n",
              "4  yes       2  yes       1               no                     0    yes   \n",
              "\n",
              "   YOE:python Java  YOE:Java  ... HTML  YOE:HTML  CSS  YOE:CSS MYSQL  \\\n",
              "0           1   no         0  ...  yes         2  yes        2   yes   \n",
              "1           4  yes         2  ...   no         0   no        0    no   \n",
              "2           2  yes         1  ...   no         0   no        0   yes   \n",
              "3           1  yes         1  ...   no         0  yes        2   yes   \n",
              "4           1  yes         1  ...  yes         3  yes        3   yes   \n",
              "\n",
              "   YOE:MYSQL  NLP  YOE:NLP  CGPA                  ROLE  \n",
              "0          2  yes        1  2.94  Full stack Developer  \n",
              "1          0   no        0  2.63         AIML engineer  \n",
              "2          1   no        0  2.45         AIML engineer  \n",
              "3          2   no        0  3.71    Software Developer  \n",
              "4          2  yes        0  2.90    Software Developer  \n",
              "\n",
              "[5 rows x 22 columns]"
            ]
          },
          "execution_count": 33,
          "metadata": {},
          "output_type": "execute_result"
        }
      ],
      "source": [
        "#importing data\n",
        "import numpy as np\n",
        "import pandas as pd\n",
        "import seaborn as sns\n",
        "dataset = pd.read_csv('/content/augmented_main.csv')\n",
        "print(np.shape(dataset))\n",
        "dataset.head()"
      ]
    },
    {
      "cell_type": "code",
      "execution_count": 34,
      "metadata": {
        "colab": {
          "base_uri": "https://localhost:8080/"
        },
        "id": "-9YfRhn6jIQR",
        "outputId": "3a8785ff-334f-428d-c56f-c288bce62673"
      },
      "outputs": [
        {
          "data": {
            "text/plain": [
              "ML                      62\n",
              "YOE:ML                  62\n",
              "DL                      62\n",
              "YOE:DL                  62\n",
              "Image Processing        62\n",
              "YOE:Image Processing    62\n",
              "Python                  62\n",
              "YOE:python              62\n",
              "Java                    62\n",
              "YOE:Java                62\n",
              "C                       62\n",
              "YOE:C                   62\n",
              "HTML                    62\n",
              "YOE:HTML                62\n",
              "CSS                     62\n",
              "YOE:CSS                 62\n",
              "MYSQL                   62\n",
              "YOE:MYSQL               62\n",
              "NLP                     62\n",
              "YOE:NLP                 62\n",
              "CGPA                    62\n",
              "ROLE                    62\n",
              "dtype: int64"
            ]
          },
          "execution_count": 34,
          "metadata": {},
          "output_type": "execute_result"
        }
      ],
      "source": [
        "dataset.count()"
      ]
    },
    {
      "cell_type": "code",
      "execution_count": 35,
      "metadata": {
        "colab": {
          "base_uri": "https://localhost:8080/"
        },
        "id": "ztWjNFkpk1XI",
        "outputId": "487dffe3-15d3-4a20-8167-9ceac0939859"
      },
      "outputs": [
        {
          "data": {
            "text/plain": [
              "ML                      0\n",
              "YOE:ML                  0\n",
              "DL                      0\n",
              "YOE:DL                  0\n",
              "Image Processing        0\n",
              "YOE:Image Processing    0\n",
              "Python                  0\n",
              "YOE:python              0\n",
              "Java                    0\n",
              "YOE:Java                0\n",
              "C                       0\n",
              "YOE:C                   0\n",
              "HTML                    0\n",
              "YOE:HTML                0\n",
              "CSS                     0\n",
              "YOE:CSS                 0\n",
              "MYSQL                   0\n",
              "YOE:MYSQL               0\n",
              "NLP                     0\n",
              "YOE:NLP                 0\n",
              "CGPA                    0\n",
              "ROLE                    0\n",
              "dtype: int64"
            ]
          },
          "execution_count": 35,
          "metadata": {},
          "output_type": "execute_result"
        }
      ],
      "source": [
        "dataset.isnull().sum()"
      ]
    },
    {
      "cell_type": "code",
      "execution_count": 36,
      "metadata": {
        "colab": {
          "base_uri": "https://localhost:8080/"
        },
        "id": "Fgf79PbJnIld",
        "outputId": "2639f7f3-cc4a-4a6d-f29f-5e5d0ebcf2e0"
      },
      "outputs": [
        {
          "name": "stdout",
          "output_type": "stream",
          "text": [
            "Correlation matrix is : \n",
            "                        YOE:ML    YOE:DL  YOE:Image Processing  YOE:python  \\\n",
            "YOE:ML                1.000000  0.603928              0.563610    0.179919   \n",
            "YOE:DL                0.603928  1.000000              0.707442    0.323748   \n",
            "YOE:Image Processing  0.563610  0.707442              1.000000    0.243120   \n",
            "YOE:python            0.179919  0.323748              0.243120    1.000000   \n",
            "YOE:Java             -0.202898 -0.067702              0.004201    0.406369   \n",
            "YOE:C                -0.365075  0.041862             -0.219029    0.306150   \n",
            "YOE:HTML              0.006120 -0.316143             -0.294512   -0.371746   \n",
            "YOE:CSS              -0.047468 -0.310157             -0.401054   -0.382129   \n",
            "YOE:MYSQL             0.053187 -0.387180             -0.339041   -0.249998   \n",
            "YOE:NLP              -0.231960 -0.569328             -0.124804   -0.280581   \n",
            "CGPA                  0.056824 -0.025680             -0.022351    0.030036   \n",
            "\n",
            "                      YOE:Java     YOE:C  YOE:HTML   YOE:CSS  YOE:MYSQL  \\\n",
            "YOE:ML               -0.202898 -0.365075  0.006120 -0.047468   0.053187   \n",
            "YOE:DL               -0.067702  0.041862 -0.316143 -0.310157  -0.387180   \n",
            "YOE:Image Processing  0.004201 -0.219029 -0.294512 -0.401054  -0.339041   \n",
            "YOE:python            0.406369  0.306150 -0.371746 -0.382129  -0.249998   \n",
            "YOE:Java              1.000000  0.512760 -0.266534 -0.306272  -0.308596   \n",
            "YOE:C                 0.512760  1.000000 -0.154507 -0.299850  -0.302125   \n",
            "YOE:HTML             -0.266534 -0.154507  1.000000  0.730832  -0.206214   \n",
            "YOE:CSS              -0.306272 -0.299850  0.730832  1.000000   0.028093   \n",
            "YOE:MYSQL            -0.308596 -0.302125 -0.206214  0.028093   1.000000   \n",
            "YOE:NLP              -0.186900 -0.451932  0.057990  0.306834   0.458558   \n",
            "CGPA                  0.012831 -0.084760  0.016796  0.207510   0.159675   \n",
            "\n",
            "                       YOE:NLP      CGPA  \n",
            "YOE:ML               -0.231960  0.056824  \n",
            "YOE:DL               -0.569328 -0.025680  \n",
            "YOE:Image Processing -0.124804 -0.022351  \n",
            "YOE:python           -0.280581  0.030036  \n",
            "YOE:Java             -0.186900  0.012831  \n",
            "YOE:C                -0.451932 -0.084760  \n",
            "YOE:HTML              0.057990  0.016796  \n",
            "YOE:CSS               0.306834  0.207510  \n",
            "YOE:MYSQL             0.458558  0.159675  \n",
            "YOE:NLP               1.000000  0.122008  \n",
            "CGPA                  0.122008  1.000000  \n"
          ]
        }
      ],
      "source": [
        "# form correlation matrix\n",
        "matrix = dataset.corr()\n",
        "print(\"Correlation matrix is : \")\n",
        "print(matrix)"
      ]
    },
    {
      "cell_type": "code",
      "execution_count": 37,
      "metadata": {
        "colab": {
          "base_uri": "https://localhost:8080/",
          "height": 394
        },
        "id": "4lKVEP5snkq8",
        "outputId": "249e0fc0-09ac-4a84-831d-dad4ad9fc281"
      },
      "outputs": [
        {
          "data": {
            "text/html": [
              "<style type=\"text/css\">\n",
              "#T_eed36_row0_col0, #T_eed36_row1_col1, #T_eed36_row2_col2, #T_eed36_row3_col3, #T_eed36_row4_col4, #T_eed36_row5_col5, #T_eed36_row6_col6, #T_eed36_row7_col7, #T_eed36_row8_col8, #T_eed36_row9_col9, #T_eed36_row10_col10 {\n",
              "  background-color: #b40426;\n",
              "  color: #f1f1f1;\n",
              "}\n",
              "#T_eed36_row0_col1 {\n",
              "  background-color: #f49a7b;\n",
              "  color: #000000;\n",
              "}\n",
              "#T_eed36_row0_col2 {\n",
              "  background-color: #f7b093;\n",
              "  color: #000000;\n",
              "}\n",
              "#T_eed36_row0_col3 {\n",
              "  background-color: #c3d5f4;\n",
              "  color: #000000;\n",
              "}\n",
              "#T_eed36_row0_col4 {\n",
              "  background-color: #536edd;\n",
              "  color: #f1f1f1;\n",
              "}\n",
              "#T_eed36_row0_col5, #T_eed36_row5_col8 {\n",
              "  background-color: #4c66d6;\n",
              "  color: #f1f1f1;\n",
              "}\n",
              "#T_eed36_row0_col6 {\n",
              "  background-color: #96b7ff;\n",
              "  color: #000000;\n",
              "}\n",
              "#T_eed36_row0_col7, #T_eed36_row10_col5 {\n",
              "  background-color: #8db0fe;\n",
              "  color: #000000;\n",
              "}\n",
              "#T_eed36_row0_col8, #T_eed36_row4_col1 {\n",
              "  background-color: #a5c3fe;\n",
              "  color: #000000;\n",
              "}\n",
              "#T_eed36_row0_col9 {\n",
              "  background-color: #81a4fb;\n",
              "  color: #f1f1f1;\n",
              "}\n",
              "#T_eed36_row0_col10, #T_eed36_row5_col2, #T_eed36_row6_col8 {\n",
              "  background-color: #6384eb;\n",
              "  color: #f1f1f1;\n",
              "}\n",
              "#T_eed36_row1_col0 {\n",
              "  background-color: #f7a98b;\n",
              "  color: #000000;\n",
              "}\n",
              "#T_eed36_row1_col2 {\n",
              "  background-color: #ef886b;\n",
              "  color: #f1f1f1;\n",
              "}\n",
              "#T_eed36_row1_col3 {\n",
              "  background-color: #dfdbd9;\n",
              "  color: #000000;\n",
              "}\n",
              "#T_eed36_row1_col4, #T_eed36_row3_col9 {\n",
              "  background-color: #7699f6;\n",
              "  color: #f1f1f1;\n",
              "}\n",
              "#T_eed36_row1_col5 {\n",
              "  background-color: #adc9fd;\n",
              "  color: #000000;\n",
              "}\n",
              "#T_eed36_row1_col6 {\n",
              "  background-color: #465ecf;\n",
              "  color: #f1f1f1;\n",
              "}\n",
              "#T_eed36_row1_col7 {\n",
              "  background-color: #4e68d8;\n",
              "  color: #f1f1f1;\n",
              "}\n",
              "#T_eed36_row1_col8, #T_eed36_row1_col9, #T_eed36_row2_col7, #T_eed36_row3_col6, #T_eed36_row5_col0, #T_eed36_row5_col10, #T_eed36_row7_col2, #T_eed36_row7_col3, #T_eed36_row7_col4, #T_eed36_row8_col4, #T_eed36_row9_col1, #T_eed36_row9_col5 {\n",
              "  background-color: #3b4cc0;\n",
              "  color: #f1f1f1;\n",
              "}\n",
              "#T_eed36_row1_col10 {\n",
              "  background-color: #4a63d3;\n",
              "  color: #f1f1f1;\n",
              "}\n",
              "#T_eed36_row2_col0 {\n",
              "  background-color: #f7b396;\n",
              "  color: #000000;\n",
              "}\n",
              "#T_eed36_row2_col1 {\n",
              "  background-color: #eb7d62;\n",
              "  color: #f1f1f1;\n",
              "}\n",
              "#T_eed36_row2_col3 {\n",
              "  background-color: #cfdaea;\n",
              "  color: #000000;\n",
              "}\n",
              "#T_eed36_row2_col4 {\n",
              "  background-color: #89acfd;\n",
              "  color: #000000;\n",
              "}\n",
              "#T_eed36_row2_col5, #T_eed36_row6_col1 {\n",
              "  background-color: #6e90f2;\n",
              "  color: #f1f1f1;\n",
              "}\n",
              "#T_eed36_row2_col6, #T_eed36_row2_col10, #T_eed36_row4_col8 {\n",
              "  background-color: #4b64d5;\n",
              "  color: #f1f1f1;\n",
              "}\n",
              "#T_eed36_row2_col8, #T_eed36_row6_col4 {\n",
              "  background-color: #445acc;\n",
              "  color: #f1f1f1;\n",
              "}\n",
              "#T_eed36_row2_col9, #T_eed36_row10_col6 {\n",
              "  background-color: #98b9ff;\n",
              "  color: #000000;\n",
              "}\n",
              "#T_eed36_row3_col0, #T_eed36_row6_col9 {\n",
              "  background-color: #c0d4f5;\n",
              "  color: #000000;\n",
              "}\n",
              "#T_eed36_row3_col1 {\n",
              "  background-color: #edd2c3;\n",
              "  color: #000000;\n",
              "}\n",
              "#T_eed36_row3_col2 {\n",
              "  background-color: #d2dbe8;\n",
              "  color: #000000;\n",
              "}\n",
              "#T_eed36_row3_col4 {\n",
              "  background-color: #e8d6cc;\n",
              "  color: #000000;\n",
              "}\n",
              "#T_eed36_row3_col5 {\n",
              "  background-color: #e2dad5;\n",
              "  color: #000000;\n",
              "}\n",
              "#T_eed36_row3_col7 {\n",
              "  background-color: #3e51c5;\n",
              "  color: #f1f1f1;\n",
              "}\n",
              "#T_eed36_row3_col8 {\n",
              "  background-color: #5977e3;\n",
              "  color: #f1f1f1;\n",
              "}\n",
              "#T_eed36_row3_col10 {\n",
              "  background-color: #5b7ae5;\n",
              "  color: #f1f1f1;\n",
              "}\n",
              "#T_eed36_row4_col0, #T_eed36_row8_col6 {\n",
              "  background-color: #5f7fe8;\n",
              "  color: #f1f1f1;\n",
              "}\n",
              "#T_eed36_row4_col2 {\n",
              "  background-color: #9bbcff;\n",
              "  color: #000000;\n",
              "}\n",
              "#T_eed36_row4_col3 {\n",
              "  background-color: #edd1c2;\n",
              "  color: #000000;\n",
              "}\n",
              "#T_eed36_row4_col5 {\n",
              "  background-color: #f7b89c;\n",
              "  color: #000000;\n",
              "}\n",
              "#T_eed36_row4_col6, #T_eed36_row5_col9, #T_eed36_row6_col2 {\n",
              "  background-color: #516ddb;\n",
              "  color: #f1f1f1;\n",
              "}\n",
              "#T_eed36_row4_col7 {\n",
              "  background-color: #4f69d9;\n",
              "  color: #f1f1f1;\n",
              "}\n",
              "#T_eed36_row4_col9, #T_eed36_row10_col4 {\n",
              "  background-color: #8badfd;\n",
              "  color: #000000;\n",
              "}\n",
              "#T_eed36_row4_col10, #T_eed36_row6_col10, #T_eed36_row9_col4 {\n",
              "  background-color: #5673e0;\n",
              "  color: #f1f1f1;\n",
              "}\n",
              "#T_eed36_row5_col1 {\n",
              "  background-color: #bcd2f7;\n",
              "  color: #000000;\n",
              "}\n",
              "#T_eed36_row5_col3 {\n",
              "  background-color: #dcdddd;\n",
              "  color: #000000;\n",
              "}\n",
              "#T_eed36_row5_col4 {\n",
              "  background-color: #f5c4ac;\n",
              "  color: #000000;\n",
              "}\n",
              "#T_eed36_row5_col6 {\n",
              "  background-color: #6c8ff1;\n",
              "  color: #f1f1f1;\n",
              "}\n",
              "#T_eed36_row5_col7, #T_eed36_row9_col3 {\n",
              "  background-color: #506bda;\n",
              "  color: #f1f1f1;\n",
              "}\n",
              "#T_eed36_row6_col0, #T_eed36_row10_col2 {\n",
              "  background-color: #94b6ff;\n",
              "  color: #000000;\n",
              "}\n",
              "#T_eed36_row6_col3 {\n",
              "  background-color: #3c4ec2;\n",
              "  color: #f1f1f1;\n",
              "}\n",
              "#T_eed36_row6_col5 {\n",
              "  background-color: #7da0f9;\n",
              "  color: #f1f1f1;\n",
              "}\n",
              "#T_eed36_row6_col7 {\n",
              "  background-color: #ec8165;\n",
              "  color: #f1f1f1;\n",
              "}\n",
              "#T_eed36_row7_col0 {\n",
              "  background-color: #86a9fc;\n",
              "  color: #f1f1f1;\n",
              "}\n",
              "#T_eed36_row7_col1 {\n",
              "  background-color: #6f92f3;\n",
              "  color: #f1f1f1;\n",
              "}\n",
              "#T_eed36_row7_col5, #T_eed36_row8_col5 {\n",
              "  background-color: #5a78e4;\n",
              "  color: #f1f1f1;\n",
              "}\n",
              "#T_eed36_row7_col6 {\n",
              "  background-color: #ed8366;\n",
              "  color: #f1f1f1;\n",
              "}\n",
              "#T_eed36_row7_col8, #T_eed36_row10_col3 {\n",
              "  background-color: #9ebeff;\n",
              "  color: #000000;\n",
              "}\n",
              "#T_eed36_row7_col9 {\n",
              "  background-color: #ead4c8;\n",
              "  color: #000000;\n",
              "}\n",
              "#T_eed36_row7_col10 {\n",
              "  background-color: #93b5fe;\n",
              "  color: #000000;\n",
              "}\n",
              "#T_eed36_row8_col0, #T_eed36_row8_col7 {\n",
              "  background-color: #a1c0ff;\n",
              "  color: #000000;\n",
              "}\n",
              "#T_eed36_row8_col1 {\n",
              "  background-color: #5e7de7;\n",
              "  color: #f1f1f1;\n",
              "}\n",
              "#T_eed36_row8_col2 {\n",
              "  background-color: #485fd1;\n",
              "  color: #f1f1f1;\n",
              "}\n",
              "#T_eed36_row8_col3, #T_eed36_row9_col0 {\n",
              "  background-color: #5875e1;\n",
              "  color: #f1f1f1;\n",
              "}\n",
              "#T_eed36_row8_col9 {\n",
              "  background-color: #f7bca1;\n",
              "  color: #000000;\n",
              "}\n",
              "#T_eed36_row8_col10 {\n",
              "  background-color: #84a7fc;\n",
              "  color: #f1f1f1;\n",
              "}\n",
              "#T_eed36_row9_col2 {\n",
              "  background-color: #7a9df8;\n",
              "  color: #f1f1f1;\n",
              "}\n",
              "#T_eed36_row9_col6 {\n",
              "  background-color: #a3c2fe;\n",
              "  color: #000000;\n",
              "}\n",
              "#T_eed36_row9_col7 {\n",
              "  background-color: #dedcdb;\n",
              "  color: #000000;\n",
              "}\n",
              "#T_eed36_row9_col8 {\n",
              "  background-color: #f3c8b2;\n",
              "  color: #000000;\n",
              "}\n",
              "#T_eed36_row9_col10 {\n",
              "  background-color: #779af7;\n",
              "  color: #f1f1f1;\n",
              "}\n",
              "#T_eed36_row10_col0 {\n",
              "  background-color: #a2c1ff;\n",
              "  color: #000000;\n",
              "}\n",
              "#T_eed36_row10_col1 {\n",
              "  background-color: #aec9fc;\n",
              "  color: #000000;\n",
              "}\n",
              "#T_eed36_row10_col7 {\n",
              "  background-color: #cbd8ee;\n",
              "  color: #000000;\n",
              "}\n",
              "#T_eed36_row10_col8 {\n",
              "  background-color: #bed2f6;\n",
              "  color: #000000;\n",
              "}\n",
              "#T_eed36_row10_col9 {\n",
              "  background-color: #ccd9ed;\n",
              "  color: #000000;\n",
              "}\n",
              "</style>\n",
              "<table id=\"T_eed36\" class=\"dataframe\">\n",
              "  <thead>\n",
              "    <tr>\n",
              "      <th class=\"blank level0\" >&nbsp;</th>\n",
              "      <th id=\"T_eed36_level0_col0\" class=\"col_heading level0 col0\" >YOE:ML</th>\n",
              "      <th id=\"T_eed36_level0_col1\" class=\"col_heading level0 col1\" >YOE:DL</th>\n",
              "      <th id=\"T_eed36_level0_col2\" class=\"col_heading level0 col2\" >YOE:Image Processing</th>\n",
              "      <th id=\"T_eed36_level0_col3\" class=\"col_heading level0 col3\" >YOE:python</th>\n",
              "      <th id=\"T_eed36_level0_col4\" class=\"col_heading level0 col4\" >YOE:Java</th>\n",
              "      <th id=\"T_eed36_level0_col5\" class=\"col_heading level0 col5\" >YOE:C</th>\n",
              "      <th id=\"T_eed36_level0_col6\" class=\"col_heading level0 col6\" >YOE:HTML</th>\n",
              "      <th id=\"T_eed36_level0_col7\" class=\"col_heading level0 col7\" >YOE:CSS</th>\n",
              "      <th id=\"T_eed36_level0_col8\" class=\"col_heading level0 col8\" >YOE:MYSQL</th>\n",
              "      <th id=\"T_eed36_level0_col9\" class=\"col_heading level0 col9\" >YOE:NLP</th>\n",
              "      <th id=\"T_eed36_level0_col10\" class=\"col_heading level0 col10\" >CGPA</th>\n",
              "    </tr>\n",
              "  </thead>\n",
              "  <tbody>\n",
              "    <tr>\n",
              "      <th id=\"T_eed36_level0_row0\" class=\"row_heading level0 row0\" >YOE:ML</th>\n",
              "      <td id=\"T_eed36_row0_col0\" class=\"data row0 col0\" >1.000000</td>\n",
              "      <td id=\"T_eed36_row0_col1\" class=\"data row0 col1\" >0.603928</td>\n",
              "      <td id=\"T_eed36_row0_col2\" class=\"data row0 col2\" >0.563610</td>\n",
              "      <td id=\"T_eed36_row0_col3\" class=\"data row0 col3\" >0.179919</td>\n",
              "      <td id=\"T_eed36_row0_col4\" class=\"data row0 col4\" >-0.202898</td>\n",
              "      <td id=\"T_eed36_row0_col5\" class=\"data row0 col5\" >-0.365075</td>\n",
              "      <td id=\"T_eed36_row0_col6\" class=\"data row0 col6\" >0.006120</td>\n",
              "      <td id=\"T_eed36_row0_col7\" class=\"data row0 col7\" >-0.047468</td>\n",
              "      <td id=\"T_eed36_row0_col8\" class=\"data row0 col8\" >0.053187</td>\n",
              "      <td id=\"T_eed36_row0_col9\" class=\"data row0 col9\" >-0.231960</td>\n",
              "      <td id=\"T_eed36_row0_col10\" class=\"data row0 col10\" >0.056824</td>\n",
              "    </tr>\n",
              "    <tr>\n",
              "      <th id=\"T_eed36_level0_row1\" class=\"row_heading level0 row1\" >YOE:DL</th>\n",
              "      <td id=\"T_eed36_row1_col0\" class=\"data row1 col0\" >0.603928</td>\n",
              "      <td id=\"T_eed36_row1_col1\" class=\"data row1 col1\" >1.000000</td>\n",
              "      <td id=\"T_eed36_row1_col2\" class=\"data row1 col2\" >0.707442</td>\n",
              "      <td id=\"T_eed36_row1_col3\" class=\"data row1 col3\" >0.323748</td>\n",
              "      <td id=\"T_eed36_row1_col4\" class=\"data row1 col4\" >-0.067702</td>\n",
              "      <td id=\"T_eed36_row1_col5\" class=\"data row1 col5\" >0.041862</td>\n",
              "      <td id=\"T_eed36_row1_col6\" class=\"data row1 col6\" >-0.316143</td>\n",
              "      <td id=\"T_eed36_row1_col7\" class=\"data row1 col7\" >-0.310157</td>\n",
              "      <td id=\"T_eed36_row1_col8\" class=\"data row1 col8\" >-0.387180</td>\n",
              "      <td id=\"T_eed36_row1_col9\" class=\"data row1 col9\" >-0.569328</td>\n",
              "      <td id=\"T_eed36_row1_col10\" class=\"data row1 col10\" >-0.025680</td>\n",
              "    </tr>\n",
              "    <tr>\n",
              "      <th id=\"T_eed36_level0_row2\" class=\"row_heading level0 row2\" >YOE:Image Processing</th>\n",
              "      <td id=\"T_eed36_row2_col0\" class=\"data row2 col0\" >0.563610</td>\n",
              "      <td id=\"T_eed36_row2_col1\" class=\"data row2 col1\" >0.707442</td>\n",
              "      <td id=\"T_eed36_row2_col2\" class=\"data row2 col2\" >1.000000</td>\n",
              "      <td id=\"T_eed36_row2_col3\" class=\"data row2 col3\" >0.243120</td>\n",
              "      <td id=\"T_eed36_row2_col4\" class=\"data row2 col4\" >0.004201</td>\n",
              "      <td id=\"T_eed36_row2_col5\" class=\"data row2 col5\" >-0.219029</td>\n",
              "      <td id=\"T_eed36_row2_col6\" class=\"data row2 col6\" >-0.294512</td>\n",
              "      <td id=\"T_eed36_row2_col7\" class=\"data row2 col7\" >-0.401054</td>\n",
              "      <td id=\"T_eed36_row2_col8\" class=\"data row2 col8\" >-0.339041</td>\n",
              "      <td id=\"T_eed36_row2_col9\" class=\"data row2 col9\" >-0.124804</td>\n",
              "      <td id=\"T_eed36_row2_col10\" class=\"data row2 col10\" >-0.022351</td>\n",
              "    </tr>\n",
              "    <tr>\n",
              "      <th id=\"T_eed36_level0_row3\" class=\"row_heading level0 row3\" >YOE:python</th>\n",
              "      <td id=\"T_eed36_row3_col0\" class=\"data row3 col0\" >0.179919</td>\n",
              "      <td id=\"T_eed36_row3_col1\" class=\"data row3 col1\" >0.323748</td>\n",
              "      <td id=\"T_eed36_row3_col2\" class=\"data row3 col2\" >0.243120</td>\n",
              "      <td id=\"T_eed36_row3_col3\" class=\"data row3 col3\" >1.000000</td>\n",
              "      <td id=\"T_eed36_row3_col4\" class=\"data row3 col4\" >0.406369</td>\n",
              "      <td id=\"T_eed36_row3_col5\" class=\"data row3 col5\" >0.306150</td>\n",
              "      <td id=\"T_eed36_row3_col6\" class=\"data row3 col6\" >-0.371746</td>\n",
              "      <td id=\"T_eed36_row3_col7\" class=\"data row3 col7\" >-0.382129</td>\n",
              "      <td id=\"T_eed36_row3_col8\" class=\"data row3 col8\" >-0.249998</td>\n",
              "      <td id=\"T_eed36_row3_col9\" class=\"data row3 col9\" >-0.280581</td>\n",
              "      <td id=\"T_eed36_row3_col10\" class=\"data row3 col10\" >0.030036</td>\n",
              "    </tr>\n",
              "    <tr>\n",
              "      <th id=\"T_eed36_level0_row4\" class=\"row_heading level0 row4\" >YOE:Java</th>\n",
              "      <td id=\"T_eed36_row4_col0\" class=\"data row4 col0\" >-0.202898</td>\n",
              "      <td id=\"T_eed36_row4_col1\" class=\"data row4 col1\" >-0.067702</td>\n",
              "      <td id=\"T_eed36_row4_col2\" class=\"data row4 col2\" >0.004201</td>\n",
              "      <td id=\"T_eed36_row4_col3\" class=\"data row4 col3\" >0.406369</td>\n",
              "      <td id=\"T_eed36_row4_col4\" class=\"data row4 col4\" >1.000000</td>\n",
              "      <td id=\"T_eed36_row4_col5\" class=\"data row4 col5\" >0.512760</td>\n",
              "      <td id=\"T_eed36_row4_col6\" class=\"data row4 col6\" >-0.266534</td>\n",
              "      <td id=\"T_eed36_row4_col7\" class=\"data row4 col7\" >-0.306272</td>\n",
              "      <td id=\"T_eed36_row4_col8\" class=\"data row4 col8\" >-0.308596</td>\n",
              "      <td id=\"T_eed36_row4_col9\" class=\"data row4 col9\" >-0.186900</td>\n",
              "      <td id=\"T_eed36_row4_col10\" class=\"data row4 col10\" >0.012831</td>\n",
              "    </tr>\n",
              "    <tr>\n",
              "      <th id=\"T_eed36_level0_row5\" class=\"row_heading level0 row5\" >YOE:C</th>\n",
              "      <td id=\"T_eed36_row5_col0\" class=\"data row5 col0\" >-0.365075</td>\n",
              "      <td id=\"T_eed36_row5_col1\" class=\"data row5 col1\" >0.041862</td>\n",
              "      <td id=\"T_eed36_row5_col2\" class=\"data row5 col2\" >-0.219029</td>\n",
              "      <td id=\"T_eed36_row5_col3\" class=\"data row5 col3\" >0.306150</td>\n",
              "      <td id=\"T_eed36_row5_col4\" class=\"data row5 col4\" >0.512760</td>\n",
              "      <td id=\"T_eed36_row5_col5\" class=\"data row5 col5\" >1.000000</td>\n",
              "      <td id=\"T_eed36_row5_col6\" class=\"data row5 col6\" >-0.154507</td>\n",
              "      <td id=\"T_eed36_row5_col7\" class=\"data row5 col7\" >-0.299850</td>\n",
              "      <td id=\"T_eed36_row5_col8\" class=\"data row5 col8\" >-0.302125</td>\n",
              "      <td id=\"T_eed36_row5_col9\" class=\"data row5 col9\" >-0.451932</td>\n",
              "      <td id=\"T_eed36_row5_col10\" class=\"data row5 col10\" >-0.084760</td>\n",
              "    </tr>\n",
              "    <tr>\n",
              "      <th id=\"T_eed36_level0_row6\" class=\"row_heading level0 row6\" >YOE:HTML</th>\n",
              "      <td id=\"T_eed36_row6_col0\" class=\"data row6 col0\" >0.006120</td>\n",
              "      <td id=\"T_eed36_row6_col1\" class=\"data row6 col1\" >-0.316143</td>\n",
              "      <td id=\"T_eed36_row6_col2\" class=\"data row6 col2\" >-0.294512</td>\n",
              "      <td id=\"T_eed36_row6_col3\" class=\"data row6 col3\" >-0.371746</td>\n",
              "      <td id=\"T_eed36_row6_col4\" class=\"data row6 col4\" >-0.266534</td>\n",
              "      <td id=\"T_eed36_row6_col5\" class=\"data row6 col5\" >-0.154507</td>\n",
              "      <td id=\"T_eed36_row6_col6\" class=\"data row6 col6\" >1.000000</td>\n",
              "      <td id=\"T_eed36_row6_col7\" class=\"data row6 col7\" >0.730832</td>\n",
              "      <td id=\"T_eed36_row6_col8\" class=\"data row6 col8\" >-0.206214</td>\n",
              "      <td id=\"T_eed36_row6_col9\" class=\"data row6 col9\" >0.057990</td>\n",
              "      <td id=\"T_eed36_row6_col10\" class=\"data row6 col10\" >0.016796</td>\n",
              "    </tr>\n",
              "    <tr>\n",
              "      <th id=\"T_eed36_level0_row7\" class=\"row_heading level0 row7\" >YOE:CSS</th>\n",
              "      <td id=\"T_eed36_row7_col0\" class=\"data row7 col0\" >-0.047468</td>\n",
              "      <td id=\"T_eed36_row7_col1\" class=\"data row7 col1\" >-0.310157</td>\n",
              "      <td id=\"T_eed36_row7_col2\" class=\"data row7 col2\" >-0.401054</td>\n",
              "      <td id=\"T_eed36_row7_col3\" class=\"data row7 col3\" >-0.382129</td>\n",
              "      <td id=\"T_eed36_row7_col4\" class=\"data row7 col4\" >-0.306272</td>\n",
              "      <td id=\"T_eed36_row7_col5\" class=\"data row7 col5\" >-0.299850</td>\n",
              "      <td id=\"T_eed36_row7_col6\" class=\"data row7 col6\" >0.730832</td>\n",
              "      <td id=\"T_eed36_row7_col7\" class=\"data row7 col7\" >1.000000</td>\n",
              "      <td id=\"T_eed36_row7_col8\" class=\"data row7 col8\" >0.028093</td>\n",
              "      <td id=\"T_eed36_row7_col9\" class=\"data row7 col9\" >0.306834</td>\n",
              "      <td id=\"T_eed36_row7_col10\" class=\"data row7 col10\" >0.207510</td>\n",
              "    </tr>\n",
              "    <tr>\n",
              "      <th id=\"T_eed36_level0_row8\" class=\"row_heading level0 row8\" >YOE:MYSQL</th>\n",
              "      <td id=\"T_eed36_row8_col0\" class=\"data row8 col0\" >0.053187</td>\n",
              "      <td id=\"T_eed36_row8_col1\" class=\"data row8 col1\" >-0.387180</td>\n",
              "      <td id=\"T_eed36_row8_col2\" class=\"data row8 col2\" >-0.339041</td>\n",
              "      <td id=\"T_eed36_row8_col3\" class=\"data row8 col3\" >-0.249998</td>\n",
              "      <td id=\"T_eed36_row8_col4\" class=\"data row8 col4\" >-0.308596</td>\n",
              "      <td id=\"T_eed36_row8_col5\" class=\"data row8 col5\" >-0.302125</td>\n",
              "      <td id=\"T_eed36_row8_col6\" class=\"data row8 col6\" >-0.206214</td>\n",
              "      <td id=\"T_eed36_row8_col7\" class=\"data row8 col7\" >0.028093</td>\n",
              "      <td id=\"T_eed36_row8_col8\" class=\"data row8 col8\" >1.000000</td>\n",
              "      <td id=\"T_eed36_row8_col9\" class=\"data row8 col9\" >0.458558</td>\n",
              "      <td id=\"T_eed36_row8_col10\" class=\"data row8 col10\" >0.159675</td>\n",
              "    </tr>\n",
              "    <tr>\n",
              "      <th id=\"T_eed36_level0_row9\" class=\"row_heading level0 row9\" >YOE:NLP</th>\n",
              "      <td id=\"T_eed36_row9_col0\" class=\"data row9 col0\" >-0.231960</td>\n",
              "      <td id=\"T_eed36_row9_col1\" class=\"data row9 col1\" >-0.569328</td>\n",
              "      <td id=\"T_eed36_row9_col2\" class=\"data row9 col2\" >-0.124804</td>\n",
              "      <td id=\"T_eed36_row9_col3\" class=\"data row9 col3\" >-0.280581</td>\n",
              "      <td id=\"T_eed36_row9_col4\" class=\"data row9 col4\" >-0.186900</td>\n",
              "      <td id=\"T_eed36_row9_col5\" class=\"data row9 col5\" >-0.451932</td>\n",
              "      <td id=\"T_eed36_row9_col6\" class=\"data row9 col6\" >0.057990</td>\n",
              "      <td id=\"T_eed36_row9_col7\" class=\"data row9 col7\" >0.306834</td>\n",
              "      <td id=\"T_eed36_row9_col8\" class=\"data row9 col8\" >0.458558</td>\n",
              "      <td id=\"T_eed36_row9_col9\" class=\"data row9 col9\" >1.000000</td>\n",
              "      <td id=\"T_eed36_row9_col10\" class=\"data row9 col10\" >0.122008</td>\n",
              "    </tr>\n",
              "    <tr>\n",
              "      <th id=\"T_eed36_level0_row10\" class=\"row_heading level0 row10\" >CGPA</th>\n",
              "      <td id=\"T_eed36_row10_col0\" class=\"data row10 col0\" >0.056824</td>\n",
              "      <td id=\"T_eed36_row10_col1\" class=\"data row10 col1\" >-0.025680</td>\n",
              "      <td id=\"T_eed36_row10_col2\" class=\"data row10 col2\" >-0.022351</td>\n",
              "      <td id=\"T_eed36_row10_col3\" class=\"data row10 col3\" >0.030036</td>\n",
              "      <td id=\"T_eed36_row10_col4\" class=\"data row10 col4\" >0.012831</td>\n",
              "      <td id=\"T_eed36_row10_col5\" class=\"data row10 col5\" >-0.084760</td>\n",
              "      <td id=\"T_eed36_row10_col6\" class=\"data row10 col6\" >0.016796</td>\n",
              "      <td id=\"T_eed36_row10_col7\" class=\"data row10 col7\" >0.207510</td>\n",
              "      <td id=\"T_eed36_row10_col8\" class=\"data row10 col8\" >0.159675</td>\n",
              "      <td id=\"T_eed36_row10_col9\" class=\"data row10 col9\" >0.122008</td>\n",
              "      <td id=\"T_eed36_row10_col10\" class=\"data row10 col10\" >1.000000</td>\n",
              "    </tr>\n",
              "  </tbody>\n",
              "</table>\n"
            ],
            "text/plain": [
              "<pandas.io.formats.style.Styler at 0x7fd06979beb0>"
            ]
          },
          "execution_count": 37,
          "metadata": {},
          "output_type": "execute_result"
        }
      ],
      "source": [
        "corr = dataset.corr()\n",
        "corr.style.background_gradient(cmap='coolwarm')"
      ]
    },
    {
      "cell_type": "code",
      "execution_count": 38,
      "metadata": {
        "colab": {
          "base_uri": "https://localhost:8080/"
        },
        "id": "gPsbEDNZ__L4",
        "outputId": "ad732164-49c8-4098-87ca-3a3336d5931c"
      },
      "outputs": [
        {
          "data": {
            "text/plain": [
              "array([1, 0])"
            ]
          },
          "execution_count": 38,
          "metadata": {},
          "output_type": "execute_result"
        }
      ],
      "source": [
        "from sklearn import preprocessing\n",
        "  \n",
        "# label_encoder object knows how to understand word labels.\n",
        "label_encoder = preprocessing.LabelEncoder()\n",
        "  \n",
        "# Encode labels in column 'species'.\n",
        "dataset['ML']= label_encoder.fit_transform(dataset['ML'])\n",
        "  \n",
        "dataset['ML'].unique()"
      ]
    },
    {
      "cell_type": "code",
      "execution_count": 39,
      "metadata": {
        "colab": {
          "base_uri": "https://localhost:8080/",
          "height": 421
        },
        "id": "PWLhhpIGCGo8",
        "outputId": "044b974b-df34-4d34-88e7-50a1a04add03"
      },
      "outputs": [
        {
          "name": "stdout",
          "output_type": "stream",
          "text": [
            "(62, 22)\n"
          ]
        },
        {
          "data": {
            "text/html": [
              "\n",
              "  <div id=\"df-2d93392c-8db2-4498-a0c7-435e05eb9479\">\n",
              "    <div class=\"colab-df-container\">\n",
              "      <div>\n",
              "<style scoped>\n",
              "    .dataframe tbody tr th:only-of-type {\n",
              "        vertical-align: middle;\n",
              "    }\n",
              "\n",
              "    .dataframe tbody tr th {\n",
              "        vertical-align: top;\n",
              "    }\n",
              "\n",
              "    .dataframe thead th {\n",
              "        text-align: right;\n",
              "    }\n",
              "</style>\n",
              "<table border=\"1\" class=\"dataframe\">\n",
              "  <thead>\n",
              "    <tr style=\"text-align: right;\">\n",
              "      <th></th>\n",
              "      <th>ML</th>\n",
              "      <th>YOE:ML</th>\n",
              "      <th>DL</th>\n",
              "      <th>YOE:DL</th>\n",
              "      <th>Image Processing</th>\n",
              "      <th>YOE:Image Processing</th>\n",
              "      <th>Python</th>\n",
              "      <th>YOE:python</th>\n",
              "      <th>Java</th>\n",
              "      <th>YOE:Java</th>\n",
              "      <th>...</th>\n",
              "      <th>HTML</th>\n",
              "      <th>YOE:HTML</th>\n",
              "      <th>CSS</th>\n",
              "      <th>YOE:CSS</th>\n",
              "      <th>MYSQL</th>\n",
              "      <th>YOE:MYSQL</th>\n",
              "      <th>NLP</th>\n",
              "      <th>YOE:NLP</th>\n",
              "      <th>CGPA</th>\n",
              "      <th>ROLE</th>\n",
              "    </tr>\n",
              "  </thead>\n",
              "  <tbody>\n",
              "    <tr>\n",
              "      <th>0</th>\n",
              "      <td>1</td>\n",
              "      <td>1</td>\n",
              "      <td>yes</td>\n",
              "      <td>1</td>\n",
              "      <td>yes</td>\n",
              "      <td>0</td>\n",
              "      <td>yes</td>\n",
              "      <td>1</td>\n",
              "      <td>no</td>\n",
              "      <td>0</td>\n",
              "      <td>...</td>\n",
              "      <td>yes</td>\n",
              "      <td>2</td>\n",
              "      <td>yes</td>\n",
              "      <td>2</td>\n",
              "      <td>yes</td>\n",
              "      <td>2</td>\n",
              "      <td>yes</td>\n",
              "      <td>1</td>\n",
              "      <td>2.94</td>\n",
              "      <td>Full stack Developer</td>\n",
              "    </tr>\n",
              "    <tr>\n",
              "      <th>1</th>\n",
              "      <td>1</td>\n",
              "      <td>2</td>\n",
              "      <td>yes</td>\n",
              "      <td>2</td>\n",
              "      <td>yes</td>\n",
              "      <td>3</td>\n",
              "      <td>yes</td>\n",
              "      <td>4</td>\n",
              "      <td>yes</td>\n",
              "      <td>2</td>\n",
              "      <td>...</td>\n",
              "      <td>no</td>\n",
              "      <td>0</td>\n",
              "      <td>no</td>\n",
              "      <td>0</td>\n",
              "      <td>no</td>\n",
              "      <td>0</td>\n",
              "      <td>no</td>\n",
              "      <td>0</td>\n",
              "      <td>2.63</td>\n",
              "      <td>AIML engineer</td>\n",
              "    </tr>\n",
              "    <tr>\n",
              "      <th>2</th>\n",
              "      <td>1</td>\n",
              "      <td>2</td>\n",
              "      <td>yes</td>\n",
              "      <td>2</td>\n",
              "      <td>yes</td>\n",
              "      <td>4</td>\n",
              "      <td>yes</td>\n",
              "      <td>2</td>\n",
              "      <td>yes</td>\n",
              "      <td>1</td>\n",
              "      <td>...</td>\n",
              "      <td>no</td>\n",
              "      <td>0</td>\n",
              "      <td>no</td>\n",
              "      <td>0</td>\n",
              "      <td>yes</td>\n",
              "      <td>1</td>\n",
              "      <td>no</td>\n",
              "      <td>0</td>\n",
              "      <td>2.45</td>\n",
              "      <td>AIML engineer</td>\n",
              "    </tr>\n",
              "    <tr>\n",
              "      <th>3</th>\n",
              "      <td>1</td>\n",
              "      <td>1</td>\n",
              "      <td>yes</td>\n",
              "      <td>1</td>\n",
              "      <td>no</td>\n",
              "      <td>0</td>\n",
              "      <td>yes</td>\n",
              "      <td>1</td>\n",
              "      <td>yes</td>\n",
              "      <td>1</td>\n",
              "      <td>...</td>\n",
              "      <td>no</td>\n",
              "      <td>0</td>\n",
              "      <td>yes</td>\n",
              "      <td>2</td>\n",
              "      <td>yes</td>\n",
              "      <td>2</td>\n",
              "      <td>no</td>\n",
              "      <td>0</td>\n",
              "      <td>3.71</td>\n",
              "      <td>Software Developer</td>\n",
              "    </tr>\n",
              "    <tr>\n",
              "      <th>4</th>\n",
              "      <td>1</td>\n",
              "      <td>2</td>\n",
              "      <td>yes</td>\n",
              "      <td>1</td>\n",
              "      <td>no</td>\n",
              "      <td>0</td>\n",
              "      <td>yes</td>\n",
              "      <td>1</td>\n",
              "      <td>yes</td>\n",
              "      <td>1</td>\n",
              "      <td>...</td>\n",
              "      <td>yes</td>\n",
              "      <td>3</td>\n",
              "      <td>yes</td>\n",
              "      <td>3</td>\n",
              "      <td>yes</td>\n",
              "      <td>2</td>\n",
              "      <td>yes</td>\n",
              "      <td>0</td>\n",
              "      <td>2.90</td>\n",
              "      <td>Software Developer</td>\n",
              "    </tr>\n",
              "  </tbody>\n",
              "</table>\n",
              "<p>5 rows × 22 columns</p>\n",
              "</div>\n",
              "      <button class=\"colab-df-convert\" onclick=\"convertToInteractive('df-2d93392c-8db2-4498-a0c7-435e05eb9479')\"\n",
              "              title=\"Convert this dataframe to an interactive table.\"\n",
              "              style=\"display:none;\">\n",
              "        \n",
              "  <svg xmlns=\"http://www.w3.org/2000/svg\" height=\"24px\"viewBox=\"0 0 24 24\"\n",
              "       width=\"24px\">\n",
              "    <path d=\"M0 0h24v24H0V0z\" fill=\"none\"/>\n",
              "    <path d=\"M18.56 5.44l.94 2.06.94-2.06 2.06-.94-2.06-.94-.94-2.06-.94 2.06-2.06.94zm-11 1L8.5 8.5l.94-2.06 2.06-.94-2.06-.94L8.5 2.5l-.94 2.06-2.06.94zm10 10l.94 2.06.94-2.06 2.06-.94-2.06-.94-.94-2.06-.94 2.06-2.06.94z\"/><path d=\"M17.41 7.96l-1.37-1.37c-.4-.4-.92-.59-1.43-.59-.52 0-1.04.2-1.43.59L10.3 9.45l-7.72 7.72c-.78.78-.78 2.05 0 2.83L4 21.41c.39.39.9.59 1.41.59.51 0 1.02-.2 1.41-.59l7.78-7.78 2.81-2.81c.8-.78.8-2.07 0-2.86zM5.41 20L4 18.59l7.72-7.72 1.47 1.35L5.41 20z\"/>\n",
              "  </svg>\n",
              "      </button>\n",
              "      \n",
              "  <style>\n",
              "    .colab-df-container {\n",
              "      display:flex;\n",
              "      flex-wrap:wrap;\n",
              "      gap: 12px;\n",
              "    }\n",
              "\n",
              "    .colab-df-convert {\n",
              "      background-color: #E8F0FE;\n",
              "      border: none;\n",
              "      border-radius: 50%;\n",
              "      cursor: pointer;\n",
              "      display: none;\n",
              "      fill: #1967D2;\n",
              "      height: 32px;\n",
              "      padding: 0 0 0 0;\n",
              "      width: 32px;\n",
              "    }\n",
              "\n",
              "    .colab-df-convert:hover {\n",
              "      background-color: #E2EBFA;\n",
              "      box-shadow: 0px 1px 2px rgba(60, 64, 67, 0.3), 0px 1px 3px 1px rgba(60, 64, 67, 0.15);\n",
              "      fill: #174EA6;\n",
              "    }\n",
              "\n",
              "    [theme=dark] .colab-df-convert {\n",
              "      background-color: #3B4455;\n",
              "      fill: #D2E3FC;\n",
              "    }\n",
              "\n",
              "    [theme=dark] .colab-df-convert:hover {\n",
              "      background-color: #434B5C;\n",
              "      box-shadow: 0px 1px 3px 1px rgba(0, 0, 0, 0.15);\n",
              "      filter: drop-shadow(0px 1px 2px rgba(0, 0, 0, 0.3));\n",
              "      fill: #FFFFFF;\n",
              "    }\n",
              "  </style>\n",
              "\n",
              "      <script>\n",
              "        const buttonEl =\n",
              "          document.querySelector('#df-2d93392c-8db2-4498-a0c7-435e05eb9479 button.colab-df-convert');\n",
              "        buttonEl.style.display =\n",
              "          google.colab.kernel.accessAllowed ? 'block' : 'none';\n",
              "\n",
              "        async function convertToInteractive(key) {\n",
              "          const element = document.querySelector('#df-2d93392c-8db2-4498-a0c7-435e05eb9479');\n",
              "          const dataTable =\n",
              "            await google.colab.kernel.invokeFunction('convertToInteractive',\n",
              "                                                     [key], {});\n",
              "          if (!dataTable) return;\n",
              "\n",
              "          const docLinkHtml = 'Like what you see? Visit the ' +\n",
              "            '<a target=\"_blank\" href=https://colab.research.google.com/notebooks/data_table.ipynb>data table notebook</a>'\n",
              "            + ' to learn more about interactive tables.';\n",
              "          element.innerHTML = '';\n",
              "          dataTable['output_type'] = 'display_data';\n",
              "          await google.colab.output.renderOutput(dataTable, element);\n",
              "          const docLink = document.createElement('div');\n",
              "          docLink.innerHTML = docLinkHtml;\n",
              "          element.appendChild(docLink);\n",
              "        }\n",
              "      </script>\n",
              "    </div>\n",
              "  </div>\n",
              "  "
            ],
            "text/plain": [
              "   ML  YOE:ML   DL  YOE:DL Image Processing  YOE:Image Processing Python  \\\n",
              "0   1       1  yes       1              yes                     0    yes   \n",
              "1   1       2  yes       2              yes                     3    yes   \n",
              "2   1       2  yes       2              yes                     4    yes   \n",
              "3   1       1  yes       1               no                     0    yes   \n",
              "4   1       2  yes       1               no                     0    yes   \n",
              "\n",
              "   YOE:python Java  YOE:Java  ... HTML  YOE:HTML  CSS  YOE:CSS MYSQL  \\\n",
              "0           1   no         0  ...  yes         2  yes        2   yes   \n",
              "1           4  yes         2  ...   no         0   no        0    no   \n",
              "2           2  yes         1  ...   no         0   no        0   yes   \n",
              "3           1  yes         1  ...   no         0  yes        2   yes   \n",
              "4           1  yes         1  ...  yes         3  yes        3   yes   \n",
              "\n",
              "   YOE:MYSQL  NLP  YOE:NLP  CGPA                  ROLE  \n",
              "0          2  yes        1  2.94  Full stack Developer  \n",
              "1          0   no        0  2.63         AIML engineer  \n",
              "2          1   no        0  2.45         AIML engineer  \n",
              "3          2   no        0  3.71    Software Developer  \n",
              "4          2  yes        0  2.90    Software Developer  \n",
              "\n",
              "[5 rows x 22 columns]"
            ]
          },
          "execution_count": 39,
          "metadata": {},
          "output_type": "execute_result"
        }
      ],
      "source": [
        "print(np.shape(dataset))\n",
        "dataset.head()"
      ]
    },
    {
      "cell_type": "code",
      "execution_count": 40,
      "metadata": {
        "colab": {
          "base_uri": "https://localhost:8080/"
        },
        "id": "SebPpF_WBgw2",
        "outputId": "43495f69-caed-4334-a473-e2f7d665d699"
      },
      "outputs": [
        {
          "data": {
            "text/plain": [
              "array([1, 0])"
            ]
          },
          "execution_count": 40,
          "metadata": {},
          "output_type": "execute_result"
        }
      ],
      "source": [
        "from sklearn import preprocessing\n",
        "  \n",
        "# label_encoder object knows how to understand word labels.\n",
        "label_encoder = preprocessing.LabelEncoder()\n",
        "  \n",
        "# Encode labels in column 'species'.\n",
        "dataset['DL']= label_encoder.fit_transform(dataset['DL'])\n",
        "  \n",
        "dataset['DL'].unique()"
      ]
    },
    {
      "cell_type": "code",
      "execution_count": 41,
      "metadata": {
        "colab": {
          "base_uri": "https://localhost:8080/"
        },
        "id": "k8tss9HyBhC3",
        "outputId": "9c196380-cc2d-45d6-821a-abd4c66651b0"
      },
      "outputs": [
        {
          "data": {
            "text/plain": [
              "array([1, 0])"
            ]
          },
          "execution_count": 41,
          "metadata": {},
          "output_type": "execute_result"
        }
      ],
      "source": [
        "from sklearn import preprocessing\n",
        "  \n",
        "# label_encoder object knows how to understand word labels.\n",
        "label_encoder = preprocessing.LabelEncoder()\n",
        "  \n",
        "# Encode labels in column 'species'.\n",
        "dataset['Image Processing']= label_encoder.fit_transform(dataset['Image Processing'])\n",
        "  \n",
        "dataset['Image Processing'].unique()"
      ]
    },
    {
      "cell_type": "code",
      "execution_count": 42,
      "metadata": {
        "colab": {
          "base_uri": "https://localhost:8080/"
        },
        "id": "3cz2JM_KBhMP",
        "outputId": "5fc8c454-d9d5-4864-8bd1-4f8140bc405d"
      },
      "outputs": [
        {
          "data": {
            "text/plain": [
              "array([1, 0])"
            ]
          },
          "execution_count": 42,
          "metadata": {},
          "output_type": "execute_result"
        }
      ],
      "source": [
        "from sklearn import preprocessing\n",
        "  \n",
        "# label_encoder object knows how to understand word labels.\n",
        "label_encoder = preprocessing.LabelEncoder()\n",
        "  \n",
        "# Encode labels in column 'species'.\n",
        "dataset['Python']= label_encoder.fit_transform(dataset['Python'])\n",
        "  \n",
        "dataset['Python'].unique()"
      ]
    },
    {
      "cell_type": "code",
      "execution_count": 43,
      "metadata": {
        "colab": {
          "base_uri": "https://localhost:8080/"
        },
        "id": "hUi3PH7-BhOv",
        "outputId": "c2d1d7f3-fa4b-4f21-c24f-1b4f4a0f1273"
      },
      "outputs": [
        {
          "data": {
            "text/plain": [
              "array([0, 1])"
            ]
          },
          "execution_count": 43,
          "metadata": {},
          "output_type": "execute_result"
        }
      ],
      "source": [
        "from sklearn import preprocessing\n",
        "  \n",
        "# label_encoder object knows how to understand word labels.\n",
        "label_encoder = preprocessing.LabelEncoder()\n",
        "  \n",
        "# Encode labels in column 'species'.\n",
        "dataset['Java']= label_encoder.fit_transform(dataset['Java'])\n",
        "  \n",
        "dataset['Java'].unique()"
      ]
    },
    {
      "cell_type": "code",
      "execution_count": 44,
      "metadata": {
        "colab": {
          "base_uri": "https://localhost:8080/"
        },
        "id": "07nvkQIyBhRP",
        "outputId": "4cc3ee40-c6c6-472a-ee43-3b226dc052ca"
      },
      "outputs": [
        {
          "data": {
            "text/plain": [
              "array([0, 1])"
            ]
          },
          "execution_count": 44,
          "metadata": {},
          "output_type": "execute_result"
        }
      ],
      "source": [
        "from sklearn import preprocessing\n",
        "  \n",
        "# label_encoder object knows how to understand word labels.\n",
        "label_encoder = preprocessing.LabelEncoder()\n",
        "  \n",
        "# Encode labels in column 'species'.\n",
        "dataset['C']= label_encoder.fit_transform(dataset['C'])\n",
        "  \n",
        "dataset['C'].unique()"
      ]
    },
    {
      "cell_type": "code",
      "execution_count": 45,
      "metadata": {
        "colab": {
          "base_uri": "https://localhost:8080/"
        },
        "id": "lw2kW3XFBhTm",
        "outputId": "dd5f20e1-1768-4ff1-cd8d-00ba4650d1f1"
      },
      "outputs": [
        {
          "data": {
            "text/plain": [
              "array([1, 0])"
            ]
          },
          "execution_count": 45,
          "metadata": {},
          "output_type": "execute_result"
        }
      ],
      "source": [
        "from sklearn import preprocessing\n",
        "  \n",
        "# label_encoder object knows how to understand word labels.\n",
        "label_encoder = preprocessing.LabelEncoder()\n",
        "  \n",
        "# Encode labels in column 'species'.\n",
        "dataset['HTML']= label_encoder.fit_transform(dataset['HTML'])\n",
        "  \n",
        "dataset['HTML'].unique()"
      ]
    },
    {
      "cell_type": "code",
      "execution_count": 46,
      "metadata": {
        "colab": {
          "base_uri": "https://localhost:8080/"
        },
        "id": "HnNriijsBhWD",
        "outputId": "eb67788d-8225-4f45-d1cf-455e5f4e79ce"
      },
      "outputs": [
        {
          "data": {
            "text/plain": [
              "array([1, 0])"
            ]
          },
          "execution_count": 46,
          "metadata": {},
          "output_type": "execute_result"
        }
      ],
      "source": [
        "from sklearn import preprocessing\n",
        "  \n",
        "# label_encoder object knows how to understand word labels.\n",
        "label_encoder = preprocessing.LabelEncoder()\n",
        "  \n",
        "# Encode labels in column 'species'.\n",
        "dataset['CSS']= label_encoder.fit_transform(dataset['CSS'])\n",
        "  \n",
        "dataset['CSS'].unique()"
      ]
    },
    {
      "cell_type": "code",
      "execution_count": 47,
      "metadata": {
        "colab": {
          "base_uri": "https://localhost:8080/"
        },
        "id": "uI5EpRFmBhYY",
        "outputId": "03c10ae5-2f38-4c33-fc67-cf9c5bb5d652"
      },
      "outputs": [
        {
          "data": {
            "text/plain": [
              "array([1, 0])"
            ]
          },
          "execution_count": 47,
          "metadata": {},
          "output_type": "execute_result"
        }
      ],
      "source": [
        "from sklearn import preprocessing\n",
        "  \n",
        "# label_encoder object knows how to understand word labels.\n",
        "label_encoder = preprocessing.LabelEncoder()\n",
        "  \n",
        "# Encode labels in column 'species'.\n",
        "dataset['MYSQL']= label_encoder.fit_transform(dataset['MYSQL'])\n",
        "  \n",
        "dataset['MYSQL'].unique()"
      ]
    },
    {
      "cell_type": "code",
      "execution_count": 48,
      "metadata": {
        "colab": {
          "base_uri": "https://localhost:8080/"
        },
        "id": "xsM0kZDnBhar",
        "outputId": "e70542df-5dec-4423-ae93-047dc4598deb"
      },
      "outputs": [
        {
          "data": {
            "text/plain": [
              "array([1, 0])"
            ]
          },
          "execution_count": 48,
          "metadata": {},
          "output_type": "execute_result"
        }
      ],
      "source": [
        "from sklearn import preprocessing\n",
        "  \n",
        "# label_encoder object knows how to understand word labels.\n",
        "label_encoder = preprocessing.LabelEncoder()\n",
        "  \n",
        "# Encode labels in column 'species'.\n",
        "dataset['NLP']= label_encoder.fit_transform(dataset['NLP'])\n",
        "  \n",
        "dataset['NLP'].unique()"
      ]
    },
    {
      "cell_type": "code",
      "execution_count": 49,
      "metadata": {
        "colab": {
          "base_uri": "https://localhost:8080/",
          "height": 421
        },
        "id": "fuQ8kWZnBheB",
        "outputId": "f1c56848-db08-4f3b-8fd8-12aee0e3afc8"
      },
      "outputs": [
        {
          "name": "stdout",
          "output_type": "stream",
          "text": [
            "(62, 22)\n"
          ]
        },
        {
          "data": {
            "text/html": [
              "\n",
              "  <div id=\"df-fb1c8774-b97d-4a67-a895-2182ddc3bf9c\">\n",
              "    <div class=\"colab-df-container\">\n",
              "      <div>\n",
              "<style scoped>\n",
              "    .dataframe tbody tr th:only-of-type {\n",
              "        vertical-align: middle;\n",
              "    }\n",
              "\n",
              "    .dataframe tbody tr th {\n",
              "        vertical-align: top;\n",
              "    }\n",
              "\n",
              "    .dataframe thead th {\n",
              "        text-align: right;\n",
              "    }\n",
              "</style>\n",
              "<table border=\"1\" class=\"dataframe\">\n",
              "  <thead>\n",
              "    <tr style=\"text-align: right;\">\n",
              "      <th></th>\n",
              "      <th>ML</th>\n",
              "      <th>YOE:ML</th>\n",
              "      <th>DL</th>\n",
              "      <th>YOE:DL</th>\n",
              "      <th>Image Processing</th>\n",
              "      <th>YOE:Image Processing</th>\n",
              "      <th>Python</th>\n",
              "      <th>YOE:python</th>\n",
              "      <th>Java</th>\n",
              "      <th>YOE:Java</th>\n",
              "      <th>...</th>\n",
              "      <th>HTML</th>\n",
              "      <th>YOE:HTML</th>\n",
              "      <th>CSS</th>\n",
              "      <th>YOE:CSS</th>\n",
              "      <th>MYSQL</th>\n",
              "      <th>YOE:MYSQL</th>\n",
              "      <th>NLP</th>\n",
              "      <th>YOE:NLP</th>\n",
              "      <th>CGPA</th>\n",
              "      <th>ROLE</th>\n",
              "    </tr>\n",
              "  </thead>\n",
              "  <tbody>\n",
              "    <tr>\n",
              "      <th>0</th>\n",
              "      <td>1</td>\n",
              "      <td>1</td>\n",
              "      <td>1</td>\n",
              "      <td>1</td>\n",
              "      <td>1</td>\n",
              "      <td>0</td>\n",
              "      <td>1</td>\n",
              "      <td>1</td>\n",
              "      <td>0</td>\n",
              "      <td>0</td>\n",
              "      <td>...</td>\n",
              "      <td>1</td>\n",
              "      <td>2</td>\n",
              "      <td>1</td>\n",
              "      <td>2</td>\n",
              "      <td>1</td>\n",
              "      <td>2</td>\n",
              "      <td>1</td>\n",
              "      <td>1</td>\n",
              "      <td>2.94</td>\n",
              "      <td>Full stack Developer</td>\n",
              "    </tr>\n",
              "    <tr>\n",
              "      <th>1</th>\n",
              "      <td>1</td>\n",
              "      <td>2</td>\n",
              "      <td>1</td>\n",
              "      <td>2</td>\n",
              "      <td>1</td>\n",
              "      <td>3</td>\n",
              "      <td>1</td>\n",
              "      <td>4</td>\n",
              "      <td>1</td>\n",
              "      <td>2</td>\n",
              "      <td>...</td>\n",
              "      <td>0</td>\n",
              "      <td>0</td>\n",
              "      <td>0</td>\n",
              "      <td>0</td>\n",
              "      <td>0</td>\n",
              "      <td>0</td>\n",
              "      <td>0</td>\n",
              "      <td>0</td>\n",
              "      <td>2.63</td>\n",
              "      <td>AIML engineer</td>\n",
              "    </tr>\n",
              "    <tr>\n",
              "      <th>2</th>\n",
              "      <td>1</td>\n",
              "      <td>2</td>\n",
              "      <td>1</td>\n",
              "      <td>2</td>\n",
              "      <td>1</td>\n",
              "      <td>4</td>\n",
              "      <td>1</td>\n",
              "      <td>2</td>\n",
              "      <td>1</td>\n",
              "      <td>1</td>\n",
              "      <td>...</td>\n",
              "      <td>0</td>\n",
              "      <td>0</td>\n",
              "      <td>0</td>\n",
              "      <td>0</td>\n",
              "      <td>1</td>\n",
              "      <td>1</td>\n",
              "      <td>0</td>\n",
              "      <td>0</td>\n",
              "      <td>2.45</td>\n",
              "      <td>AIML engineer</td>\n",
              "    </tr>\n",
              "    <tr>\n",
              "      <th>3</th>\n",
              "      <td>1</td>\n",
              "      <td>1</td>\n",
              "      <td>1</td>\n",
              "      <td>1</td>\n",
              "      <td>0</td>\n",
              "      <td>0</td>\n",
              "      <td>1</td>\n",
              "      <td>1</td>\n",
              "      <td>1</td>\n",
              "      <td>1</td>\n",
              "      <td>...</td>\n",
              "      <td>0</td>\n",
              "      <td>0</td>\n",
              "      <td>1</td>\n",
              "      <td>2</td>\n",
              "      <td>1</td>\n",
              "      <td>2</td>\n",
              "      <td>0</td>\n",
              "      <td>0</td>\n",
              "      <td>3.71</td>\n",
              "      <td>Software Developer</td>\n",
              "    </tr>\n",
              "    <tr>\n",
              "      <th>4</th>\n",
              "      <td>1</td>\n",
              "      <td>2</td>\n",
              "      <td>1</td>\n",
              "      <td>1</td>\n",
              "      <td>0</td>\n",
              "      <td>0</td>\n",
              "      <td>1</td>\n",
              "      <td>1</td>\n",
              "      <td>1</td>\n",
              "      <td>1</td>\n",
              "      <td>...</td>\n",
              "      <td>1</td>\n",
              "      <td>3</td>\n",
              "      <td>1</td>\n",
              "      <td>3</td>\n",
              "      <td>1</td>\n",
              "      <td>2</td>\n",
              "      <td>1</td>\n",
              "      <td>0</td>\n",
              "      <td>2.90</td>\n",
              "      <td>Software Developer</td>\n",
              "    </tr>\n",
              "  </tbody>\n",
              "</table>\n",
              "<p>5 rows × 22 columns</p>\n",
              "</div>\n",
              "      <button class=\"colab-df-convert\" onclick=\"convertToInteractive('df-fb1c8774-b97d-4a67-a895-2182ddc3bf9c')\"\n",
              "              title=\"Convert this dataframe to an interactive table.\"\n",
              "              style=\"display:none;\">\n",
              "        \n",
              "  <svg xmlns=\"http://www.w3.org/2000/svg\" height=\"24px\"viewBox=\"0 0 24 24\"\n",
              "       width=\"24px\">\n",
              "    <path d=\"M0 0h24v24H0V0z\" fill=\"none\"/>\n",
              "    <path d=\"M18.56 5.44l.94 2.06.94-2.06 2.06-.94-2.06-.94-.94-2.06-.94 2.06-2.06.94zm-11 1L8.5 8.5l.94-2.06 2.06-.94-2.06-.94L8.5 2.5l-.94 2.06-2.06.94zm10 10l.94 2.06.94-2.06 2.06-.94-2.06-.94-.94-2.06-.94 2.06-2.06.94z\"/><path d=\"M17.41 7.96l-1.37-1.37c-.4-.4-.92-.59-1.43-.59-.52 0-1.04.2-1.43.59L10.3 9.45l-7.72 7.72c-.78.78-.78 2.05 0 2.83L4 21.41c.39.39.9.59 1.41.59.51 0 1.02-.2 1.41-.59l7.78-7.78 2.81-2.81c.8-.78.8-2.07 0-2.86zM5.41 20L4 18.59l7.72-7.72 1.47 1.35L5.41 20z\"/>\n",
              "  </svg>\n",
              "      </button>\n",
              "      \n",
              "  <style>\n",
              "    .colab-df-container {\n",
              "      display:flex;\n",
              "      flex-wrap:wrap;\n",
              "      gap: 12px;\n",
              "    }\n",
              "\n",
              "    .colab-df-convert {\n",
              "      background-color: #E8F0FE;\n",
              "      border: none;\n",
              "      border-radius: 50%;\n",
              "      cursor: pointer;\n",
              "      display: none;\n",
              "      fill: #1967D2;\n",
              "      height: 32px;\n",
              "      padding: 0 0 0 0;\n",
              "      width: 32px;\n",
              "    }\n",
              "\n",
              "    .colab-df-convert:hover {\n",
              "      background-color: #E2EBFA;\n",
              "      box-shadow: 0px 1px 2px rgba(60, 64, 67, 0.3), 0px 1px 3px 1px rgba(60, 64, 67, 0.15);\n",
              "      fill: #174EA6;\n",
              "    }\n",
              "\n",
              "    [theme=dark] .colab-df-convert {\n",
              "      background-color: #3B4455;\n",
              "      fill: #D2E3FC;\n",
              "    }\n",
              "\n",
              "    [theme=dark] .colab-df-convert:hover {\n",
              "      background-color: #434B5C;\n",
              "      box-shadow: 0px 1px 3px 1px rgba(0, 0, 0, 0.15);\n",
              "      filter: drop-shadow(0px 1px 2px rgba(0, 0, 0, 0.3));\n",
              "      fill: #FFFFFF;\n",
              "    }\n",
              "  </style>\n",
              "\n",
              "      <script>\n",
              "        const buttonEl =\n",
              "          document.querySelector('#df-fb1c8774-b97d-4a67-a895-2182ddc3bf9c button.colab-df-convert');\n",
              "        buttonEl.style.display =\n",
              "          google.colab.kernel.accessAllowed ? 'block' : 'none';\n",
              "\n",
              "        async function convertToInteractive(key) {\n",
              "          const element = document.querySelector('#df-fb1c8774-b97d-4a67-a895-2182ddc3bf9c');\n",
              "          const dataTable =\n",
              "            await google.colab.kernel.invokeFunction('convertToInteractive',\n",
              "                                                     [key], {});\n",
              "          if (!dataTable) return;\n",
              "\n",
              "          const docLinkHtml = 'Like what you see? Visit the ' +\n",
              "            '<a target=\"_blank\" href=https://colab.research.google.com/notebooks/data_table.ipynb>data table notebook</a>'\n",
              "            + ' to learn more about interactive tables.';\n",
              "          element.innerHTML = '';\n",
              "          dataTable['output_type'] = 'display_data';\n",
              "          await google.colab.output.renderOutput(dataTable, element);\n",
              "          const docLink = document.createElement('div');\n",
              "          docLink.innerHTML = docLinkHtml;\n",
              "          element.appendChild(docLink);\n",
              "        }\n",
              "      </script>\n",
              "    </div>\n",
              "  </div>\n",
              "  "
            ],
            "text/plain": [
              "   ML  YOE:ML  DL  YOE:DL  Image Processing  YOE:Image Processing  Python  \\\n",
              "0   1       1   1       1                 1                     0       1   \n",
              "1   1       2   1       2                 1                     3       1   \n",
              "2   1       2   1       2                 1                     4       1   \n",
              "3   1       1   1       1                 0                     0       1   \n",
              "4   1       2   1       1                 0                     0       1   \n",
              "\n",
              "   YOE:python  Java  YOE:Java  ...  HTML  YOE:HTML  CSS  YOE:CSS  MYSQL  \\\n",
              "0           1     0         0  ...     1         2    1        2      1   \n",
              "1           4     1         2  ...     0         0    0        0      0   \n",
              "2           2     1         1  ...     0         0    0        0      1   \n",
              "3           1     1         1  ...     0         0    1        2      1   \n",
              "4           1     1         1  ...     1         3    1        3      1   \n",
              "\n",
              "   YOE:MYSQL  NLP  YOE:NLP  CGPA                  ROLE  \n",
              "0          2    1        1  2.94  Full stack Developer  \n",
              "1          0    0        0  2.63         AIML engineer  \n",
              "2          1    0        0  2.45         AIML engineer  \n",
              "3          2    0        0  3.71    Software Developer  \n",
              "4          2    1        0  2.90    Software Developer  \n",
              "\n",
              "[5 rows x 22 columns]"
            ]
          },
          "execution_count": 49,
          "metadata": {},
          "output_type": "execute_result"
        }
      ],
      "source": [
        "print(np.shape(dataset))\n",
        "dataset.head()"
      ]
    },
    {
      "cell_type": "code",
      "execution_count": 52,
      "metadata": {
        "colab": {
          "base_uri": "https://localhost:8080/"
        },
        "id": "pben0HqW9pCv",
        "outputId": "245d3427-e323-48ff-d803-96659a44e49d"
      },
      "outputs": [
        {
          "name": "stdout",
          "output_type": "stream",
          "text": [
            "                    ROLE  Associated Number\n",
            "0   Full stack Developer                  4\n",
            "1          AIML engineer                  0\n",
            "2     Software Developer                  6\n",
            "3              Developer                  2\n",
            "4           Data analyst                  1\n",
            "5                 Tester                  8\n",
            "6         UI/UX Designer                  9\n",
            "7    Front End Developer                  3\n",
            "8      software engineer                 11\n",
            "9                Manager                  5\n",
            "10    software architect                 10\n",
            "11             Team Lead                  7\n"
          ]
        }
      ],
      "source": [
        "data = dataset.iloc[:49,:-1].values\n",
        "label = dataset.iloc[:49,-1]\n",
        "#-------------------------------Label Encoding--------------------------#\n",
        "from sklearn.preprocessing import LabelEncoder, OneHotEncoder\n",
        "labelencoder = LabelEncoder()\n",
        "df = dataset\n",
        "label = df.iloc[:49,-1]\n",
        "original=label.unique() \n",
        "label=label.values\n",
        "label2 = labelencoder.fit_transform(label)\n",
        "y=pd.DataFrame(label2,columns=[\"ROLE\"])\n",
        "numeric=y[\"ROLE\"].unique() \n",
        "y1 = pd.DataFrame({'ROLE':original, 'Associated Number':numeric})\n",
        "print(y1)\n",
        "from sklearn.preprocessing import LabelEncoder, OneHotEncoder\n",
        "labelencoder = LabelEncoder()\n",
        "label = labelencoder.fit_transform(label)\n",
        "y=pd.DataFrame(label,columns=[\"role\"])\n",
        "X = pd.DataFrame(data,columns=['ML',\n",
        "'YOE:ML',                  \n",
        "'DL',                      \n",
        "'YOE:DL',                  \n",
        "'Image Processing',        \n",
        "'YOE:Image Processing',    \n",
        "'Python',                 \n",
        "'YOE:python',              \n",
        "'Java',                    \n",
        "'YOE:Java',                \n",
        "'C',                       \n",
        "'YOE:C',                   \n",
        "'HTML',              \n",
        "'YOE:HTML',                \n",
        "'CSS',                     \n",
        "'YOE:CSS',                 \n",
        "'MYSQL',                   \n",
        "'YOE:MYSQL',               \n",
        "'NLP',                     \n",
        "'YOE:NLP',                \n",
        "'CGPA'        ])"
      ]
    },
    {
      "cell_type": "code",
      "execution_count": 53,
      "metadata": {
        "colab": {
          "base_uri": "https://localhost:8080/"
        },
        "id": "6GkXHOPcFB8J",
        "outputId": "372c3945-ec79-48e4-f22f-c4c0afd81286"
      },
      "outputs": [
        {
          "data": {
            "text/plain": [
              "ML                      0\n",
              "YOE:ML                  0\n",
              "DL                      0\n",
              "YOE:DL                  0\n",
              "Image Processing        0\n",
              "YOE:Image Processing    0\n",
              "Python                  0\n",
              "YOE:python              0\n",
              "Java                    0\n",
              "YOE:Java                0\n",
              "C                       0\n",
              "YOE:C                   0\n",
              "HTML                    0\n",
              "YOE:HTML                0\n",
              "CSS                     0\n",
              "YOE:CSS                 0\n",
              "MYSQL                   0\n",
              "YOE:MYSQL               0\n",
              "NLP                     0\n",
              "YOE:NLP                 0\n",
              "CGPA                    0\n",
              "ROLE                    0\n",
              "dtype: int64"
            ]
          },
          "execution_count": 53,
          "metadata": {},
          "output_type": "execute_result"
        }
      ],
      "source": [
        "dataset.isnull().sum()"
      ]
    },
    {
      "cell_type": "code",
      "execution_count": null,
      "metadata": {
        "id": "wHaWZhKrFZPg"
      },
      "outputs": [],
      "source": [
        "# replacing na values \n",
        "dataset[\"SNO\"].fillna( method ='ffill', limit = 1, inplace = True)"
      ]
    },
    {
      "cell_type": "code",
      "execution_count": null,
      "metadata": {
        "id": "fqh-8rhxFx-m"
      },
      "outputs": [],
      "source": [
        "\n",
        "dataset[\"CGPA\"].fillna( method ='ffill', limit = 1, inplace = True)"
      ]
    },
    {
      "cell_type": "code",
      "execution_count": null,
      "metadata": {
        "id": "A2JkTbZgF20O"
      },
      "outputs": [],
      "source": [
        "\n",
        "dataset[\"ROLE\"].fillna( method ='ffill', limit = 1, inplace = True)"
      ]
    },
    {
      "cell_type": "code",
      "execution_count": null,
      "metadata": {
        "colab": {
          "base_uri": "https://localhost:8080/"
        },
        "id": "otmLBX0gF-cS",
        "outputId": "27d164a3-c26e-4287-85d3-1c98df28f7c3"
      },
      "outputs": [
        {
          "data": {
            "text/plain": [
              "SNO                 0\n",
              "ML                  0\n",
              "DL                  0\n",
              "Image Processing    0\n",
              "Python              0\n",
              "Java                0\n",
              "C                   0\n",
              "HTML                0\n",
              "CSS                 0\n",
              "MYSQL               0\n",
              "NLP                 0\n",
              "CGPA                0\n",
              "ROLE                0\n",
              "dtype: int64"
            ]
          },
          "execution_count": 46,
          "metadata": {},
          "output_type": "execute_result"
        }
      ],
      "source": [
        "dataset.isnull().sum()"
      ]
    },
    {
      "cell_type": "code",
      "execution_count": 101,
      "metadata": {
        "colab": {
          "base_uri": "https://localhost:8080/",
          "height": 411
        },
        "id": "910yOGC-7gSh",
        "outputId": "fed42d44-d2a6-455c-e069-04f517cbc3d7"
      },
      "outputs": [
        {
          "data": {
            "text/html": [
              "\n",
              "  <div id=\"df-9b7708c2-e98b-40e2-8edd-62fbe75d8a5d\">\n",
              "    <div class=\"colab-df-container\">\n",
              "      <div>\n",
              "<style scoped>\n",
              "    .dataframe tbody tr th:only-of-type {\n",
              "        vertical-align: middle;\n",
              "    }\n",
              "\n",
              "    .dataframe tbody tr th {\n",
              "        vertical-align: top;\n",
              "    }\n",
              "\n",
              "    .dataframe thead th {\n",
              "        text-align: right;\n",
              "    }\n",
              "</style>\n",
              "<table border=\"1\" class=\"dataframe\">\n",
              "  <thead>\n",
              "    <tr style=\"text-align: right;\">\n",
              "      <th></th>\n",
              "      <th>ML</th>\n",
              "      <th>YOE:ML</th>\n",
              "      <th>DL</th>\n",
              "      <th>YOE:DL</th>\n",
              "      <th>Image Processing</th>\n",
              "      <th>YOE:Image Processing</th>\n",
              "      <th>Python</th>\n",
              "      <th>YOE:python</th>\n",
              "      <th>Java</th>\n",
              "      <th>YOE:Java</th>\n",
              "      <th>...</th>\n",
              "      <th>YOE:C</th>\n",
              "      <th>HTML</th>\n",
              "      <th>YOE:HTML</th>\n",
              "      <th>CSS</th>\n",
              "      <th>YOE:CSS</th>\n",
              "      <th>MYSQL</th>\n",
              "      <th>YOE:MYSQL</th>\n",
              "      <th>NLP</th>\n",
              "      <th>YOE:NLP</th>\n",
              "      <th>CGPA</th>\n",
              "    </tr>\n",
              "  </thead>\n",
              "  <tbody>\n",
              "    <tr>\n",
              "      <th>count</th>\n",
              "      <td>62.000000</td>\n",
              "      <td>62.000000</td>\n",
              "      <td>62.000000</td>\n",
              "      <td>62.000000</td>\n",
              "      <td>62.000000</td>\n",
              "      <td>62.000000</td>\n",
              "      <td>62.000000</td>\n",
              "      <td>62.000000</td>\n",
              "      <td>62.000000</td>\n",
              "      <td>62.000000</td>\n",
              "      <td>...</td>\n",
              "      <td>62.000000</td>\n",
              "      <td>62.000000</td>\n",
              "      <td>62.000000</td>\n",
              "      <td>62.000000</td>\n",
              "      <td>62.000000</td>\n",
              "      <td>62.000000</td>\n",
              "      <td>62.000000</td>\n",
              "      <td>62.000000</td>\n",
              "      <td>62.000000</td>\n",
              "      <td>62.000000</td>\n",
              "    </tr>\n",
              "    <tr>\n",
              "      <th>mean</th>\n",
              "      <td>0.500000</td>\n",
              "      <td>0.870968</td>\n",
              "      <td>0.500000</td>\n",
              "      <td>0.838710</td>\n",
              "      <td>0.500000</td>\n",
              "      <td>0.806452</td>\n",
              "      <td>0.500000</td>\n",
              "      <td>1.483871</td>\n",
              "      <td>0.500000</td>\n",
              "      <td>1.354839</td>\n",
              "      <td>...</td>\n",
              "      <td>0.903226</td>\n",
              "      <td>0.500000</td>\n",
              "      <td>1.032258</td>\n",
              "      <td>0.500000</td>\n",
              "      <td>1.032258</td>\n",
              "      <td>0.500000</td>\n",
              "      <td>1.258065</td>\n",
              "      <td>0.500000</td>\n",
              "      <td>0.612903</td>\n",
              "      <td>2.945201</td>\n",
              "    </tr>\n",
              "    <tr>\n",
              "      <th>std</th>\n",
              "      <td>0.504082</td>\n",
              "      <td>0.664902</td>\n",
              "      <td>0.504082</td>\n",
              "      <td>0.682175</td>\n",
              "      <td>0.504082</td>\n",
              "      <td>1.157140</td>\n",
              "      <td>0.504082</td>\n",
              "      <td>0.804535</td>\n",
              "      <td>0.504082</td>\n",
              "      <td>0.870213</td>\n",
              "      <td>...</td>\n",
              "      <td>0.592568</td>\n",
              "      <td>0.504082</td>\n",
              "      <td>1.039668</td>\n",
              "      <td>0.504082</td>\n",
              "      <td>0.904773</td>\n",
              "      <td>0.504082</td>\n",
              "      <td>0.957036</td>\n",
              "      <td>0.504082</td>\n",
              "      <td>0.754328</td>\n",
              "      <td>0.622657</td>\n",
              "    </tr>\n",
              "    <tr>\n",
              "      <th>min</th>\n",
              "      <td>0.000000</td>\n",
              "      <td>0.000000</td>\n",
              "      <td>0.000000</td>\n",
              "      <td>0.000000</td>\n",
              "      <td>0.000000</td>\n",
              "      <td>0.000000</td>\n",
              "      <td>0.000000</td>\n",
              "      <td>1.000000</td>\n",
              "      <td>0.000000</td>\n",
              "      <td>0.000000</td>\n",
              "      <td>...</td>\n",
              "      <td>0.000000</td>\n",
              "      <td>0.000000</td>\n",
              "      <td>0.000000</td>\n",
              "      <td>0.000000</td>\n",
              "      <td>0.000000</td>\n",
              "      <td>0.000000</td>\n",
              "      <td>0.000000</td>\n",
              "      <td>0.000000</td>\n",
              "      <td>0.000000</td>\n",
              "      <td>1.380000</td>\n",
              "    </tr>\n",
              "    <tr>\n",
              "      <th>25%</th>\n",
              "      <td>0.000000</td>\n",
              "      <td>0.000000</td>\n",
              "      <td>0.000000</td>\n",
              "      <td>0.000000</td>\n",
              "      <td>0.000000</td>\n",
              "      <td>0.000000</td>\n",
              "      <td>0.000000</td>\n",
              "      <td>1.000000</td>\n",
              "      <td>0.000000</td>\n",
              "      <td>1.000000</td>\n",
              "      <td>...</td>\n",
              "      <td>1.000000</td>\n",
              "      <td>0.000000</td>\n",
              "      <td>0.000000</td>\n",
              "      <td>0.000000</td>\n",
              "      <td>0.000000</td>\n",
              "      <td>0.000000</td>\n",
              "      <td>1.000000</td>\n",
              "      <td>0.000000</td>\n",
              "      <td>0.000000</td>\n",
              "      <td>2.544366</td>\n",
              "    </tr>\n",
              "    <tr>\n",
              "      <th>50%</th>\n",
              "      <td>0.500000</td>\n",
              "      <td>1.000000</td>\n",
              "      <td>0.500000</td>\n",
              "      <td>1.000000</td>\n",
              "      <td>0.500000</td>\n",
              "      <td>0.000000</td>\n",
              "      <td>0.500000</td>\n",
              "      <td>1.000000</td>\n",
              "      <td>0.500000</td>\n",
              "      <td>1.000000</td>\n",
              "      <td>...</td>\n",
              "      <td>1.000000</td>\n",
              "      <td>0.500000</td>\n",
              "      <td>1.000000</td>\n",
              "      <td>0.500000</td>\n",
              "      <td>1.000000</td>\n",
              "      <td>0.500000</td>\n",
              "      <td>1.000000</td>\n",
              "      <td>0.500000</td>\n",
              "      <td>0.000000</td>\n",
              "      <td>2.935869</td>\n",
              "    </tr>\n",
              "    <tr>\n",
              "      <th>75%</th>\n",
              "      <td>1.000000</td>\n",
              "      <td>1.000000</td>\n",
              "      <td>1.000000</td>\n",
              "      <td>1.000000</td>\n",
              "      <td>1.000000</td>\n",
              "      <td>1.000000</td>\n",
              "      <td>1.000000</td>\n",
              "      <td>2.000000</td>\n",
              "      <td>1.000000</td>\n",
              "      <td>2.000000</td>\n",
              "      <td>...</td>\n",
              "      <td>1.000000</td>\n",
              "      <td>1.000000</td>\n",
              "      <td>2.000000</td>\n",
              "      <td>1.000000</td>\n",
              "      <td>2.000000</td>\n",
              "      <td>1.000000</td>\n",
              "      <td>2.000000</td>\n",
              "      <td>1.000000</td>\n",
              "      <td>1.000000</td>\n",
              "      <td>3.442789</td>\n",
              "    </tr>\n",
              "    <tr>\n",
              "      <th>max</th>\n",
              "      <td>1.000000</td>\n",
              "      <td>2.000000</td>\n",
              "      <td>1.000000</td>\n",
              "      <td>2.000000</td>\n",
              "      <td>1.000000</td>\n",
              "      <td>4.000000</td>\n",
              "      <td>1.000000</td>\n",
              "      <td>4.000000</td>\n",
              "      <td>1.000000</td>\n",
              "      <td>3.000000</td>\n",
              "      <td>...</td>\n",
              "      <td>2.000000</td>\n",
              "      <td>1.000000</td>\n",
              "      <td>3.000000</td>\n",
              "      <td>1.000000</td>\n",
              "      <td>3.000000</td>\n",
              "      <td>1.000000</td>\n",
              "      <td>3.000000</td>\n",
              "      <td>1.000000</td>\n",
              "      <td>2.000000</td>\n",
              "      <td>3.989385</td>\n",
              "    </tr>\n",
              "  </tbody>\n",
              "</table>\n",
              "<p>8 rows × 21 columns</p>\n",
              "</div>\n",
              "      <button class=\"colab-df-convert\" onclick=\"convertToInteractive('df-9b7708c2-e98b-40e2-8edd-62fbe75d8a5d')\"\n",
              "              title=\"Convert this dataframe to an interactive table.\"\n",
              "              style=\"display:none;\">\n",
              "        \n",
              "  <svg xmlns=\"http://www.w3.org/2000/svg\" height=\"24px\"viewBox=\"0 0 24 24\"\n",
              "       width=\"24px\">\n",
              "    <path d=\"M0 0h24v24H0V0z\" fill=\"none\"/>\n",
              "    <path d=\"M18.56 5.44l.94 2.06.94-2.06 2.06-.94-2.06-.94-.94-2.06-.94 2.06-2.06.94zm-11 1L8.5 8.5l.94-2.06 2.06-.94-2.06-.94L8.5 2.5l-.94 2.06-2.06.94zm10 10l.94 2.06.94-2.06 2.06-.94-2.06-.94-.94-2.06-.94 2.06-2.06.94z\"/><path d=\"M17.41 7.96l-1.37-1.37c-.4-.4-.92-.59-1.43-.59-.52 0-1.04.2-1.43.59L10.3 9.45l-7.72 7.72c-.78.78-.78 2.05 0 2.83L4 21.41c.39.39.9.59 1.41.59.51 0 1.02-.2 1.41-.59l7.78-7.78 2.81-2.81c.8-.78.8-2.07 0-2.86zM5.41 20L4 18.59l7.72-7.72 1.47 1.35L5.41 20z\"/>\n",
              "  </svg>\n",
              "      </button>\n",
              "      \n",
              "  <style>\n",
              "    .colab-df-container {\n",
              "      display:flex;\n",
              "      flex-wrap:wrap;\n",
              "      gap: 12px;\n",
              "    }\n",
              "\n",
              "    .colab-df-convert {\n",
              "      background-color: #E8F0FE;\n",
              "      border: none;\n",
              "      border-radius: 50%;\n",
              "      cursor: pointer;\n",
              "      display: none;\n",
              "      fill: #1967D2;\n",
              "      height: 32px;\n",
              "      padding: 0 0 0 0;\n",
              "      width: 32px;\n",
              "    }\n",
              "\n",
              "    .colab-df-convert:hover {\n",
              "      background-color: #E2EBFA;\n",
              "      box-shadow: 0px 1px 2px rgba(60, 64, 67, 0.3), 0px 1px 3px 1px rgba(60, 64, 67, 0.15);\n",
              "      fill: #174EA6;\n",
              "    }\n",
              "\n",
              "    [theme=dark] .colab-df-convert {\n",
              "      background-color: #3B4455;\n",
              "      fill: #D2E3FC;\n",
              "    }\n",
              "\n",
              "    [theme=dark] .colab-df-convert:hover {\n",
              "      background-color: #434B5C;\n",
              "      box-shadow: 0px 1px 3px 1px rgba(0, 0, 0, 0.15);\n",
              "      filter: drop-shadow(0px 1px 2px rgba(0, 0, 0, 0.3));\n",
              "      fill: #FFFFFF;\n",
              "    }\n",
              "  </style>\n",
              "\n",
              "      <script>\n",
              "        const buttonEl =\n",
              "          document.querySelector('#df-9b7708c2-e98b-40e2-8edd-62fbe75d8a5d button.colab-df-convert');\n",
              "        buttonEl.style.display =\n",
              "          google.colab.kernel.accessAllowed ? 'block' : 'none';\n",
              "\n",
              "        async function convertToInteractive(key) {\n",
              "          const element = document.querySelector('#df-9b7708c2-e98b-40e2-8edd-62fbe75d8a5d');\n",
              "          const dataTable =\n",
              "            await google.colab.kernel.invokeFunction('convertToInteractive',\n",
              "                                                     [key], {});\n",
              "          if (!dataTable) return;\n",
              "\n",
              "          const docLinkHtml = 'Like what you see? Visit the ' +\n",
              "            '<a target=\"_blank\" href=https://colab.research.google.com/notebooks/data_table.ipynb>data table notebook</a>'\n",
              "            + ' to learn more about interactive tables.';\n",
              "          element.innerHTML = '';\n",
              "          dataTable['output_type'] = 'display_data';\n",
              "          await google.colab.output.renderOutput(dataTable, element);\n",
              "          const docLink = document.createElement('div');\n",
              "          docLink.innerHTML = docLinkHtml;\n",
              "          element.appendChild(docLink);\n",
              "        }\n",
              "      </script>\n",
              "    </div>\n",
              "  </div>\n",
              "  "
            ],
            "text/plain": [
              "              ML     YOE:ML         DL     YOE:DL  Image Processing  \\\n",
              "count  62.000000  62.000000  62.000000  62.000000         62.000000   \n",
              "mean    0.500000   0.870968   0.500000   0.838710          0.500000   \n",
              "std     0.504082   0.664902   0.504082   0.682175          0.504082   \n",
              "min     0.000000   0.000000   0.000000   0.000000          0.000000   \n",
              "25%     0.000000   0.000000   0.000000   0.000000          0.000000   \n",
              "50%     0.500000   1.000000   0.500000   1.000000          0.500000   \n",
              "75%     1.000000   1.000000   1.000000   1.000000          1.000000   \n",
              "max     1.000000   2.000000   1.000000   2.000000          1.000000   \n",
              "\n",
              "       YOE:Image Processing     Python  YOE:python       Java   YOE:Java  ...  \\\n",
              "count             62.000000  62.000000   62.000000  62.000000  62.000000  ...   \n",
              "mean               0.806452   0.500000    1.483871   0.500000   1.354839  ...   \n",
              "std                1.157140   0.504082    0.804535   0.504082   0.870213  ...   \n",
              "min                0.000000   0.000000    1.000000   0.000000   0.000000  ...   \n",
              "25%                0.000000   0.000000    1.000000   0.000000   1.000000  ...   \n",
              "50%                0.000000   0.500000    1.000000   0.500000   1.000000  ...   \n",
              "75%                1.000000   1.000000    2.000000   1.000000   2.000000  ...   \n",
              "max                4.000000   1.000000    4.000000   1.000000   3.000000  ...   \n",
              "\n",
              "           YOE:C       HTML   YOE:HTML        CSS    YOE:CSS      MYSQL  \\\n",
              "count  62.000000  62.000000  62.000000  62.000000  62.000000  62.000000   \n",
              "mean    0.903226   0.500000   1.032258   0.500000   1.032258   0.500000   \n",
              "std     0.592568   0.504082   1.039668   0.504082   0.904773   0.504082   \n",
              "min     0.000000   0.000000   0.000000   0.000000   0.000000   0.000000   \n",
              "25%     1.000000   0.000000   0.000000   0.000000   0.000000   0.000000   \n",
              "50%     1.000000   0.500000   1.000000   0.500000   1.000000   0.500000   \n",
              "75%     1.000000   1.000000   2.000000   1.000000   2.000000   1.000000   \n",
              "max     2.000000   1.000000   3.000000   1.000000   3.000000   1.000000   \n",
              "\n",
              "       YOE:MYSQL        NLP    YOE:NLP       CGPA  \n",
              "count  62.000000  62.000000  62.000000  62.000000  \n",
              "mean    1.258065   0.500000   0.612903   2.945201  \n",
              "std     0.957036   0.504082   0.754328   0.622657  \n",
              "min     0.000000   0.000000   0.000000   1.380000  \n",
              "25%     1.000000   0.000000   0.000000   2.544366  \n",
              "50%     1.000000   0.500000   0.000000   2.935869  \n",
              "75%     2.000000   1.000000   1.000000   3.442789  \n",
              "max     3.000000   1.000000   2.000000   3.989385  \n",
              "\n",
              "[8 rows x 21 columns]"
            ]
          },
          "execution_count": 101,
          "metadata": {},
          "output_type": "execute_result"
        }
      ],
      "source": [
        "dataset.describe()"
      ]
    },
    {
      "cell_type": "code",
      "execution_count": 104,
      "metadata": {
        "colab": {
          "base_uri": "https://localhost:8080/",
          "height": 295
        },
        "id": "kT8Xs5eS93TX",
        "outputId": "9edc95b0-cd47-4eba-e423-c168d8a133d0"
      },
      "outputs": [
        {
          "data": {
            "image/png": "[encoded data removed]",
            "text/plain": [
              "<Figure size 432x288 with 1 Axes>"
            ]
          },
          "metadata": {
            "needs_background": "light"
          },
          "output_type": "display_data"
        }
      ],
      "source": [
        "role_counts = dataset['ROLE'].value_counts()\n",
        "\n",
        "# create a bar chart to display the results\n",
        "plt.bar(role_counts.index, role_counts.values)\n",
        "plt.title('Distribution of Roles')\n",
        "plt.xlabel('Role')\n",
        "plt.ylabel('Frequency')\n",
        "plt.show()"
      ]
    },
    {
      "cell_type": "code",
      "execution_count": 105,
      "metadata": {
        "colab": {
          "base_uri": "https://localhost:8080/",
          "height": 1000
        },
        "id": "GnD7_9dk9c_H",
        "outputId": "979a2660-3668-4a78-ea02-1e837fb44dd9"
      },
      "outputs": [
        {
          "data": {
            "image/png": "[encoded data removed]",
            "text/plain": [
              "<Figure size 432x288 with 1 Axes>"
            ]
          },
          "metadata": {
            "needs_background": "light"
          },
          "output_type": "display_data"
        },
        {
          "data": {
            "image/png": "[encoded data removed]",
            "text/plain": [
              "<Figure size 432x288 with 1 Axes>"
            ]
          },
          "metadata": {
            "needs_background": "light"
          },
          "output_type": "display_data"
        },
        {
          "data": {
            "image/png": "[encoded data removed]",
            "text/plain": [
              "<Figure size 432x288 with 1 Axes>"
            ]
          },
          "metadata": {
            "needs_background": "light"
          },
          "output_type": "display_data"
        },
        {
          "data": {
            "image/png": "[encoded data removed]",
            "text/plain": [
              "<Figure size 432x288 with 1 Axes>"
            ]
          },
          "metadata": {
            "needs_background": "light"
          },
          "output_type": "display_data"
        },
        {
          "data": {
            "image/png": "[encoded data removed]",
            "text/plain": [
              "<Figure size 432x288 with 1 Axes>"
            ]
          },
          "metadata": {
            "needs_background": "light"
          },
          "output_type": "display_data"
        },
        {
          "data": {
            "image/png": "[encoded data removed]",
            "text/plain": [
              "<Figure size 432x288 with 1 Axes>"
            ]
          },
          "metadata": {
            "needs_background": "light"
          },
          "output_type": "display_data"
        },
        {
          "data": {
            "image/png": "[encoded data removed]",
            "text/plain": [
              "<Figure size 432x288 with 1 Axes>"
            ]
          },
          "metadata": {
            "needs_background": "light"
          },
          "output_type": "display_data"
        },
        {
          "data": {
            "image/png": "[encoded data removed]",
            "text/plain": [
              "<Figure size 432x288 with 1 Axes>"
            ]
          },
          "metadata": {
            "needs_background": "light"
          },
          "output_type": "display_data"
        },
        {
          "data": {
            "image/png": "[encoded data removed]",
            "text/plain": [
              "<Figure size 432x288 with 1 Axes>"
            ]
          },
          "metadata": {
            "needs_background": "light"
          },
          "output_type": "display_data"
        },
        {
          "data": {
            "image/png": "[encoded data removed]",
            "text/plain": [
              "<Figure size 432x288 with 1 Axes>"
            ]
          },
          "metadata": {
            "needs_background": "light"
          },
          "output_type": "display_data"
        },
        {
          "data": {
            "image/png": "[encoded data removed]",
            "text/plain": [
              "<Figure size 432x288 with 1 Axes>"
            ]
          },
          "metadata": {
            "needs_background": "light"
          },
          "output_type": "display_data"
        },
        {
          "data": {
            "image/png": "[encoded data removed]",
            "text/plain": [
              "<Figure size 432x288 with 1 Axes>"
            ]
          },
          "metadata": {
            "needs_background": "light"
          },
          "output_type": "display_data"
        },
        {
          "data": {
            "image/png": "[encoded data removed]",
            "text/plain": [
              "<Figure size 432x288 with 1 Axes>"
            ]
          },
          "metadata": {
            "needs_background": "light"
          },
          "output_type": "display_data"
        },
        {
          "data": {
            "image/png": "[encoded data removed]",
            "text/plain": [
              "<Figure size 432x288 with 1 Axes>"
            ]
          },
          "metadata": {
            "needs_background": "light"
          },
          "output_type": "display_data"
        },
        {
          "data": {
            "image/png": "[encoded data removed]",
            "text/plain": [
              "<Figure size 432x288 with 1 Axes>"
            ]
          },
          "metadata": {
            "needs_background": "light"
          },
          "output_type": "display_data"
        },
        {
          "data": {
            "image/png": "[encoded data removed]",
            "text/plain": [
              "<Figure size 432x288 with 1 Axes>"
            ]
          },
          "metadata": {
            "needs_background": "light"
          },
          "output_type": "display_data"
        },
        {
          "data": {
            "image/png": "[encoded data removed]",
            "text/plain": [
              "<Figure size 432x288 with 1 Axes>"
            ]
          },
          "metadata": {
            "needs_background": "light"
          },
          "output_type": "display_data"
        },
        {
          "data": {
            "image/png": "[encoded data removed]",
            "text/plain": [
              "<Figure size 432x288 with 1 Axes>"
            ]
          },
          "metadata": {
            "needs_background": "light"
          },
          "output_type": "display_data"
        },
        {
          "data": {
            "image/png": "[encoded data removed]",
            "text/plain": [
              "<Figure size 432x288 with 1 Axes>"
            ]
          },
          "metadata": {
            "needs_background": "light"
          },
          "output_type": "display_data"
        },
        {
          "data": {
            "image/png": "[encoded data removed]",
            "text/plain": [
              "<Figure size 432x288 with 1 Axes>"
            ]
          },
          "metadata": {
            "needs_background": "light"
          },
          "output_type": "display_data"
        },
        {
          "data": {
            "image/png": "[encoded data removed]",
            "text/plain": [
              "<Figure size 432x288 with 1 Axes>"
            ]
          },
          "metadata": {
            "needs_background": "light"
          },
          "output_type": "display_data"
        }
      ],
      "source": [
        "attributes = ['ML', 'YOE:ML', 'DL', 'YOE:DL', 'Image Processing', 'YOE:Image Processing', 'Python', 'YOE:python', 'Java', 'YOE:Java', 'C', 'YOE:C', 'HTML', 'YOE:HTML', 'CSS', 'YOE:CSS', 'MYSQL', 'YOE:MYSQL', 'NLP', 'YOE:NLP', 'CGPA']\n",
        "\n",
        "# loop through attributes and create a histogram\n",
        "for attribute in attributes:\n",
        "    plt.figure()\n",
        "    sns.histplot(data=dataset, x=attribute, kde=True)\n",
        "    plt.title(attribute)\n",
        "    plt.show()"
      ]
    },
    {
      "cell_type": "code",
      "execution_count": 54,
      "metadata": {
        "id": "K7aOsyg0-h8i"
      },
      "outputs": [],
      "source": [
        "from pandas import read_csv\n",
        "from sklearn.model_selection import train_test_split\n",
        "from sklearn.preprocessing import LabelEncoder\n",
        "from sklearn.preprocessing import OrdinalEncoder\n",
        "from sklearn.feature_selection import SelectKBest\n",
        "from sklearn.feature_selection import chi2\n",
        "from matplotlib import pyplotS"
      ]
    },
    {
      "cell_type": "code",
      "execution_count": 55,
      "metadata": {
        "id": "__SqHopx-vPG"
      },
      "outputs": [],
      "source": [
        "# feature selection\n",
        "# example of chi squared feature selection for categorical data\n",
        "def select_features(X_train, y_train, X_test):\n",
        "\tfs = SelectKBest(score_func=chi2, k='all')\n",
        "\tfs.fit(X_train, y_train)\n",
        "\tX_train_fs = fs.transform(X_train)\n",
        "\tX_test_fs = fs.transform(X_test)\n",
        "\treturn X_train_fs, X_test_fs, fs"
      ]
    },
    {
      "cell_type": "code",
      "execution_count": 81,
      "metadata": {
        "id": "Lgn3zxUv-zcf"
      },
      "outputs": [],
      "source": [
        "# split into train and test sets\n",
        "X_train, X_test, y_train, y_test = train_test_split(X, y, test_size=0.2, random_state=20)#Decision tree\n",
        "X_train2,X_test2,y_train2,y_test2=train_test_split(X,y,test_size=0.3,random_state=10)#XGBoost\n",
        "X_train6,X_test6,y_train6,y_test6=train_test_split(X,y,test_size=0.2,random_state=15)#SVM\n",
        "X_train9,X_test9,y_train9,y_test9=train_test_split(X,y,test_size=0.2,random_state=15)#randomforest\n",
        "\n",
        "X_train1, X_test1, fs1 = select_features(X_train, y_train, X_test)\n",
        "X_train3, X_test3, fs3 = select_features(X_train2, y_train2, X_test2)\n",
        "X_train5, X_test5, fs5 = select_features(X_train2, y_train2, X_test2)\n",
        "X_train8, X_test8, fs8 = select_features(X_train9, y_train9, X_test9)"
      ]
    },
    {
      "cell_type": "code",
      "execution_count": null,
      "metadata": {
        "id": "ScV01KBWy_h6"
      },
      "outputs": [],
      "source": [
        "print(\"Without feature Selection : \")\n",
        "acc1,clf1 = rf(X_train8,y_train,X_test8,y_test)\n",
        "\n",
        "print(\"With feature Selection : \")\n",
        "acc,clf = rf(X_train9,y_train9,X_test9,y_test9)"
      ]
    },
    {
      "cell_type": "code",
      "execution_count": 57,
      "metadata": {
        "colab": {
          "base_uri": "https://localhost:8080/",
          "height": 1000
        },
        "id": "qk2-goc4Gd-3",
        "outputId": "a3343a64-d782-47fd-c63f-9dff08ad845d"
      },
      "outputs": [
        {
          "name": "stdout",
          "output_type": "stream",
          "text": [
            "Feature 0: 5.713636\n",
            "Feature 1: 7.807143\n",
            "Feature 2: 2.936364\n",
            "Feature 3: 8.512857\n",
            "Feature 4: 8.471053\n",
            "Feature 5: 35.961429\n",
            "Feature 6: 3.395652\n",
            "Feature 7: 4.411207\n",
            "Feature 8: 1.918750\n",
            "Feature 9: 8.001020\n",
            "Feature 10: 2.872000\n",
            "Feature 11: 6.433333\n",
            "Feature 12: 12.947222\n",
            "Feature 13: 18.931395\n",
            "Feature 14: 13.282353\n",
            "Feature 15: 12.355814\n",
            "Feature 16: 4.870833\n",
            "Feature 17: 12.816327\n",
            "Feature 18: 7.202941\n",
            "Feature 19: 11.421739\n",
            "Feature 20: 2.345092\n"
          ]
        },
        {
          "data": {
            "image/png": "[encoded data removed]",
            "text/plain": [
              "<Figure size 432x288 with 1 Axes>"
            ]
          },
          "metadata": {
            "needs_background": "light"
          },
          "output_type": "display_data"
        },
        {
          "name": "stdout",
          "output_type": "stream",
          "text": [
            " The number of important features with threshold as 1 :21 \n",
            "Feature 0: 6.024242\n",
            "Feature 1: 9.251613\n",
            "Feature 2: 3.436232\n",
            "Feature 3: 7.251852\n",
            "Feature 4: 11.183333\n",
            "Feature 5: 29.822807\n",
            "Feature 6: 4.544928\n",
            "Feature 7: 4.851923\n",
            "Feature 8: 2.440000\n",
            "Feature 9: 7.785714\n",
            "Feature 10: 4.850794\n",
            "Feature 11: 5.321505\n",
            "Feature 12: 9.451852\n",
            "Feature 13: 16.262791\n",
            "Feature 14: 8.350000\n",
            "Feature 15: 13.951587\n",
            "Feature 16: 4.041270\n",
            "Feature 17: 11.064286\n",
            "Feature 18: 4.100000\n",
            "Feature 19: 13.490000\n",
            "Feature 20: 1.877031\n"
          ]
        },
        {
          "data": {
            "image/png": "[encoded data removed]",
            "text/plain": [
              "<Figure size 432x288 with 1 Axes>"
            ]
          },
          "metadata": {
            "needs_background": "light"
          },
          "output_type": "display_data"
        },
        {
          "name": "stdout",
          "output_type": "stream",
          "text": [
            " The number of important features with threshold as 1 :21 \n"
          ]
        }
      ],
      "source": [
        "# what are scores for the features\n",
        "for i in range(len(fs1.scores_)):\n",
        "\tprint('Feature %d: %f' % (i, fs1.scores_[i]))\n",
        "# plot the scores\n",
        "pyplot.bar([i for i in range(len(fs1.scores_))], fs1.scores_)\n",
        "pyplot.show()\n",
        "\n",
        "count = 0\n",
        "for i in fs1.scores_ : \n",
        "    if i > 1 : \n",
        "        count = count + 1\n",
        "k1=count\n",
        "print(\" The number of important features with threshold as 1 :{} \".format(k1))\n",
        "\n",
        "\n",
        "for i in range(len(fs3.scores_)):\n",
        "\tprint('Feature %d: %f' % (i, fs3.scores_[i]))\n",
        "# plot the scores\n",
        "pyplot.bar([i for i in range(len(fs3.scores_))], fs3.scores_)\n",
        "pyplot.show()\n",
        "\n",
        "count = 0\n",
        "for i in fs3.scores_ : \n",
        "    if i > 1 : \n",
        "        count = count + 1\n",
        "k3=count\n",
        "\n",
        "print(\" The number of important features with threshold as 1 :{} \".format(k3))"
      ]
    },
    {
      "cell_type": "code",
      "execution_count": 58,
      "metadata": {
        "colab": {
          "base_uri": "https://localhost:8080/",
          "height": 647
        },
        "id": "9q9jRHvNGl-G",
        "outputId": "af64d33e-e01a-45c4-dabd-a06bcdb67629"
      },
      "outputs": [
        {
          "name": "stdout",
          "output_type": "stream",
          "text": [
            "Feature 0: 6.024242\n",
            "Feature 1: 9.251613\n",
            "Feature 2: 3.436232\n",
            "Feature 3: 7.251852\n",
            "Feature 4: 11.183333\n",
            "Feature 5: 29.822807\n",
            "Feature 6: 4.544928\n",
            "Feature 7: 4.851923\n",
            "Feature 8: 2.440000\n",
            "Feature 9: 7.785714\n",
            "Feature 10: 4.850794\n",
            "Feature 11: 5.321505\n",
            "Feature 12: 9.451852\n",
            "Feature 13: 16.262791\n",
            "Feature 14: 8.350000\n",
            "Feature 15: 13.951587\n",
            "Feature 16: 4.041270\n",
            "Feature 17: 11.064286\n",
            "Feature 18: 4.100000\n",
            "Feature 19: 13.490000\n",
            "Feature 20: 1.877031\n"
          ]
        },
        {
          "data": {
            "image/png": "[encoded data removed]",
            "text/plain": [
              "<Figure size 432x288 with 1 Axes>"
            ]
          },
          "metadata": {
            "needs_background": "light"
          },
          "output_type": "display_data"
        },
        {
          "name": "stdout",
          "output_type": "stream",
          "text": [
            " The number of important features with threshold as 1 : 21\n"
          ]
        }
      ],
      "source": [
        "#X_train4, X_test4, fs = select_features(X_train2, y_train2, X_test2)\n",
        "for i in range(len(fs5.scores_)):\n",
        "\tprint('Feature %d: %f' % (i, fs5.scores_[i]))\n",
        "# plot the scores\n",
        "pyplot.bar([i for i in range(len(fs5.scores_))], fs5.scores_)\n",
        "pyplot.show()\n",
        "\n",
        "count = 0\n",
        "for i in fs5.scores_ : \n",
        "    if i > 1 : \n",
        "        count = count + 1\n",
        "k5=count\n",
        "\n",
        "print(\" The number of important features with threshold as 1 : {}\" .format(k5))"
      ]
    },
    {
      "cell_type": "code",
      "execution_count": 59,
      "metadata": {
        "id": "xRIzQXhaHOW6"
      },
      "outputs": [],
      "source": [
        "def select_features(X_train, y_train, X_test):\n",
        "\tfs = SelectKBest(score_func=chi2,k=k1)\n",
        "\tfs.fit(X_train, y_train)\n",
        "\tX_train_fs = fs.transform(X_train)\n",
        "\tX_test_fs = fs.transform(X_test)\n",
        "\treturn X_train_fs, X_test_fs, fs"
      ]
    },
    {
      "cell_type": "code",
      "execution_count": 60,
      "metadata": {
        "id": "bw_-6OtFOvsm"
      },
      "outputs": [],
      "source": [
        "def select_features2(X_train, y_train, X_test):\n",
        "\tfs = SelectKBest(score_func=chi2,k=k3)\n",
        "\tfs.fit(X_train, y_train)\n",
        "\tX_train_fs = fs.transform(X_train)\n",
        "\tX_test_fs = fs.transform(X_test)\n",
        "\treturn X_train_fs, X_test_fs, fs"
      ]
    },
    {
      "cell_type": "code",
      "execution_count": 61,
      "metadata": {
        "id": "keE5yOs1Ozit"
      },
      "outputs": [],
      "source": [
        "def select_features3(X_train, y_train, X_test):\n",
        "\tfs = SelectKBest(score_func=chi2,k=k5)\n",
        "\tfs.fit(X_train, y_train)\n",
        "\tX_train_fs = fs.transform(X_train)\n",
        "\tX_test_fs = fs.transform(X_test)\n",
        "\treturn X_train_fs, X_test_fs, fs"
      ]
    },
    {
      "cell_type": "code",
      "execution_count": 79,
      "metadata": {
        "id": "4W25HbRSvm5x"
      },
      "outputs": [],
      "source": [
        "def select_features4(X_train, y_train, X_test):\n",
        "\tfs = SelectKBest(score_func=chi2,k=k5)\n",
        "\tfs.fit(X_train, y_train)\n",
        "\tX_train_fs = fs.transform(X_train)\n",
        "\tX_test_fs = fs.transform(X_test)\n",
        "\treturn X_train_fs, X_test_fs, fs"
      ]
    },
    {
      "cell_type": "code",
      "execution_count": 62,
      "metadata": {
        "id": "E7Ag6T4YO6aA"
      },
      "outputs": [],
      "source": [
        "X_train1, X_test1, fs = select_features(X_train, y_train, X_test)\n",
        "X_train3, X_test3, fs = select_features2(X_train2, y_train2, X_test2)\n",
        "X_train5, X_test5, fs = select_features3(X_train6, y_train6, X_test6)"
      ]
    },
    {
      "cell_type": "code",
      "execution_count": 82,
      "metadata": {
        "id": "ReNX-KIgvapu"
      },
      "outputs": [],
      "source": [
        "X_train8, X_test8, fs = select_features4(X_train9, y_train9, X_test9)"
      ]
    },
    {
      "cell_type": "code",
      "execution_count": 63,
      "metadata": {
        "id": "R-emZCnKO-qj"
      },
      "outputs": [],
      "source": [
        "#Support Vector machine\n",
        "from sklearn.metrics import confusion_matrix,accuracy_score\n",
        "def svm(X_train,y_train,X_test,y_test):\n",
        "  from sklearn.svm import SVC\n",
        "  from pandas import read_csv\n",
        "  from sklearn.model_selection import train_test_split\n",
        "\n",
        "  # import metrics to compute accuracy\n",
        "  from sklearn.metrics import accuracy_score\n",
        "  svc=SVC() \n",
        "  # fit classifier to training set\n",
        "  svc.fit(X_train,y_train)\n",
        "  # make predictions on test set\n",
        "  y_pred=svc.predict(X_test)\n",
        "  # compute and print accuracy score\n",
        "  print('Model accuracy score with default hyperparameters: {0:0.4f}'. format(accuracy_score(y_test, y_pred)*100))\n",
        "  return accuracy_score(y_test, y_pred)*100"
      ]
    },
    {
      "cell_type": "code",
      "execution_count": 64,
      "metadata": {
        "colab": {
          "base_uri": "https://localhost:8080/"
        },
        "id": "BeauLa6_PDNu",
        "outputId": "0a5722fa-d5af-4a54-dffb-04a7ec8b7468"
      },
      "outputs": [
        {
          "name": "stdout",
          "output_type": "stream",
          "text": [
            "Without feature Selection : \n",
            "Model accuracy score with default hyperparameters: 40.0000\n",
            "With feature Selection : \n",
            "Model accuracy score with default hyperparameters: 40.0000\n"
          ]
        },
        {
          "name": "stderr",
          "output_type": "stream",
          "text": [
            "/usr/local/lib/python3.9/dist-packages/sklearn/utils/validation.py:1143: DataConversionWarning: A column-vector y was passed when a 1d array was expected. Please change the shape of y to (n_samples, ), for example using ravel().\n",
            "  y = column_or_1d(y, warn=True)\n",
            "/usr/local/lib/python3.9/dist-packages/sklearn/utils/validation.py:1143: DataConversionWarning: A column-vector y was passed when a 1d array was expected. Please change the shape of y to (n_samples, ), for example using ravel().\n",
            "  y = column_or_1d(y, warn=True)\n"
          ]
        }
      ],
      "source": [
        "print(\"Without feature Selection : \")\n",
        "acc = svm(X_train6,y_train6,X_test6,y_test6)\n",
        "\n",
        "print(\"With feature Selection : \")\n",
        "acc1 = svm(X_train5,y_train6,X_test5,y_test6)"
      ]
    },
    {
      "cell_type": "code",
      "execution_count": 84,
      "metadata": {
        "id": "VTB8JPsDvApc"
      },
      "outputs": [],
      "source": [
        "def rf(X_train,y_train,X_test,y_test):\n",
        "  from sklearn.ensemble import RandomForestClassifier \n",
        " #Random Forest Classifier\n",
        "  clf = RandomForestClassifier() \n",
        "  clf = clf.fit(X_train, y_train)\n",
        "  # Prediction\n",
        "  y_pred = clf.predict(X_test)\n",
        "  y_test_arr=y_test['role']\n",
        "  from sklearn.metrics import confusion_matrix,accuracy_score\n",
        "  accuracy = accuracy_score(y_test,y_pred)\n",
        "  print('Model accuracy score with Decision Tree', accuracy_score(y_test, y_pred)*100)\n",
        "  return accuracy*100,clf"
      ]
    },
    {
      "cell_type": "code",
      "execution_count": 87,
      "metadata": {
        "colab": {
          "base_uri": "https://localhost:8080/"
        },
        "id": "7f4RikU6yltI",
        "outputId": "e504fd34-5e45-497d-e6d5-84fe408de02a"
      },
      "outputs": [
        {
          "name": "stdout",
          "output_type": "stream",
          "text": [
            "Without feature Selection : \n"
          ]
        },
        {
          "name": "stderr",
          "output_type": "stream",
          "text": [
            "<ipython-input-84-3627ebaa4999>:5: DataConversionWarning: A column-vector y was passed when a 1d array was expected. Please change the shape of y to (n_samples,), for example using ravel().\n",
            "  clf = clf.fit(X_train, y_train)\n"
          ]
        },
        {
          "name": "stdout",
          "output_type": "stream",
          "text": [
            "Model accuracy score with Decision Tree 50.0\n",
            "With feature Selection : \n"
          ]
        },
        {
          "name": "stderr",
          "output_type": "stream",
          "text": [
            "<ipython-input-84-3627ebaa4999>:5: DataConversionWarning: A column-vector y was passed when a 1d array was expected. Please change the shape of y to (n_samples,), for example using ravel().\n",
            "  clf = clf.fit(X_train, y_train)\n"
          ]
        },
        {
          "name": "stdout",
          "output_type": "stream",
          "text": [
            "Model accuracy score with Decision Tree 50.0\n"
          ]
        }
      ],
      "source": [
        "print(\"Without feature Selection : \")\n",
        "acc1,clf1 = rf(X_train8,y_train9,X_test8,y_test9)\n",
        "\n",
        "print(\"With feature Selection : \")\n",
        "acc,clf = rf(X_train9,y_train9,X_test9,y_test9)"
      ]
    },
    {
      "cell_type": "code",
      "execution_count": 65,
      "metadata": {
        "id": "4vBJBAS9T5l0"
      },
      "outputs": [],
      "source": [
        "def Dec_tree(X_train,y_train,X_test,y_test):\n",
        "  from sklearn import tree\n",
        "  clf = tree.DecisionTreeClassifier()\n",
        "  clf = clf.fit(X_train, y_train)\n",
        "  # Prediction\n",
        "  y_pred = clf.predict(X_test)\n",
        "  y_test_arr=y_test['role']\n",
        "  from sklearn.metrics import confusion_matrix,accuracy_score\n",
        "  accuracy = accuracy_score(y_test,y_pred)\n",
        "  print('Model accuracy score with Decision Tree', accuracy_score(y_test, y_pred)*100)\n",
        "  return accuracy*100,clf"
      ]
    },
    {
      "cell_type": "code",
      "execution_count": 66,
      "metadata": {
        "colab": {
          "base_uri": "https://localhost:8080/"
        },
        "id": "DTwJFlTMQ7uS",
        "outputId": "6c9c760a-3ddc-4f32-abea-06166722bf06"
      },
      "outputs": [
        {
          "name": "stdout",
          "output_type": "stream",
          "text": [
            "Without feature Selection : \n",
            "Model accuracy score with Decision Tree 70.0\n"
          ]
        }
      ],
      "source": [
        "\n",
        "print(\"Without feature Selection : \")\n",
        "acc1,clf1 = Dec_tree(X_train1,y_train,X_test1,y_test)"
      ]
    },
    {
      "cell_type": "code",
      "execution_count": 67,
      "metadata": {
        "colab": {
          "base_uri": "https://localhost:8080/"
        },
        "id": "-Itg-b4OU0WR",
        "outputId": "3c201241-229e-4bf7-83a3-c6405fccb3a2"
      },
      "outputs": [
        {
          "name": "stdout",
          "output_type": "stream",
          "text": [
            "With feature Selection : \n",
            "Model accuracy score with Decision Tree 60.0\n"
          ]
        }
      ],
      "source": [
        "print(\"With feature Selection : \")\n",
        "acc,clf = Dec_tree(X_train,y_train,X_test,y_test)"
      ]
    },
    {
      "cell_type": "code",
      "execution_count": 68,
      "metadata": {
        "id": "15yOpKb7Su41"
      },
      "outputs": [],
      "source": [
        "def xgboost(X_train,y_train,X_test,y_test,clf):\n",
        "  #X_train,X_test,y_train,y_test=train_test_split(X1,y,test_size=0.3,random_state=10)\n",
        "  shape = X_train.shape\n",
        "  X_train=pd.to_numeric(X_train.values.flatten())\n",
        "  X_train=X_train.reshape(shape)\n",
        "  from xgboost.sklearn import XGBClassifier\n",
        "  model = XGBClassifier()\n",
        "  model.fit(X_train, y_train)\n",
        "  xgb_y_pred  = clf.predict(X_test)\n",
        "  xgb_accuracy = accuracy_score(y_test,xgb_y_pred)\n",
        "  print(\"accuracy=\",xgb_accuracy*100)\n",
        "  return xgb_accuracy*100"
      ]
    },
    {
      "cell_type": "code",
      "execution_count": 69,
      "metadata": {
        "colab": {
          "base_uri": "https://localhost:8080/"
        },
        "id": "hWG0BefEUqAt",
        "outputId": "99de76e5-4ad8-4a6b-bd5a-6c00ef1e6355"
      },
      "outputs": [
        {
          "name": "stdout",
          "output_type": "stream",
          "text": [
            "Boosting the Decision Tree  \n",
            "accuracy= 93.33333333333333\n"
          ]
        }
      ],
      "source": [
        "#-------------XGBoost-----------------#\n",
        "print(\"Boosting the Decision Tree  \")\n",
        "acc = xgboost(X_train2,y_train2,X_test2,y_test2,clf)"
      ]
    },
    {
      "cell_type": "code",
      "execution_count": 1,
      "metadata": {
        "colab": {
          "base_uri": "https://localhost:8080/",
          "height": 334
        },
        "id": "Shz7C27HVC9G",
        "outputId": "2f6d5a06-0318-4f63-fd04-c045663067ce"
      },
      "outputs": [
        {
          "data": {
            "image/png": "[encoded data removed]",
            "text/plain": [
              "<Figure size 1000x500 with 1 Axes>"
            ]
          },
          "metadata": {},
          "output_type": "display_data"
        }
      ],
      "source": [
        "import matplotlib.pyplot as plt\n",
        "#fig = plt.figure()\n",
        "fig = plt.figure(figsize =(10, 5)) \n",
        "#ax = fig.add_axes([0,0,1,1])\n",
        "Name = ['Decision Tree(with feature selection)','Decision Tree(without feature selection)', 'XGBoost', 'SVM(with feature selction)','SVM(without feature selction)']\n",
        "accuracies = [50,50,93.333,70,60]\n",
        "plt.bar(Name,accuracies)\n",
        "plt.ylabel('Accuracies')\n",
        "plt.xlabel('Techniques')\n",
        "plt.show()"
      ]
    },
    {
      "cell_type": "code",
      "execution_count": 76,
      "metadata": {
        "colab": {
          "base_uri": "https://localhost:8080/"
        },
        "id": "eJJKawUbVD1Y",
        "outputId": "c5e016bf-3f18-4f04-9cb8-4f551e3157fc"
      },
      "outputs": [
        {
          "name": "stdout",
          "output_type": "stream",
          "text": [
            "ML\n",
            "Enter: 0\n",
            "YOE:ML\n",
            "Enter: 1\n",
            "DL\n",
            "Enter: 2\n",
            "YOE:DL\n",
            "Enter: 1\n",
            "Image Processing\n",
            "Enter: 0\n",
            "YOE:Image Processing\n",
            "Enter: 0\n",
            "Python\n",
            "Enter: 1\n",
            "YOE:python\n",
            "Enter: 0\n",
            "Java\n",
            "Enter: 2\n",
            "YOE:Java\n",
            "Enter: 2\n",
            "C\n",
            "Enter: 0\n",
            "YOE:C\n",
            "Enter: 1\n",
            "HTML\n",
            "Enter: 0\n",
            "YOE:HTML\n",
            "Enter: 1\n",
            "CSS\n",
            "Enter: 1\n",
            "YOE:CSS\n",
            "Enter: 2\n",
            "MYSQL\n",
            "Enter: 1\n",
            "YOE:MYSQL\n",
            "Enter: 1\n",
            "NLP\n",
            "Enter: 1\n",
            "YOE:NLP\n",
            "Enter: 0\n",
            "CGPA\n",
            "Enter: 2.8\n"
          ]
        },
        {
          "data": {
            "text/plain": [
              "['0',\n",
              " '1',\n",
              " '2',\n",
              " '1',\n",
              " '0',\n",
              " '0',\n",
              " '1',\n",
              " '0',\n",
              " '2',\n",
              " '2',\n",
              " '0',\n",
              " '1',\n",
              " '0',\n",
              " '1',\n",
              " '1',\n",
              " '2',\n",
              " '1',\n",
              " '1',\n",
              " '1',\n",
              " '0',\n",
              " '2.8']"
            ]
          },
          "execution_count": 76,
          "metadata": {},
          "output_type": "execute_result"
        }
      ],
      "source": [
        "x_new = []\n",
        "feat = list(X.columns) \n",
        "for i in feat:0\n",
        "  print(i)\n",
        "  val = input(\"Enter: \") \n",
        "  x_new.append(val)\n",
        "x_new"
      ]
    },
    {
      "cell_type": "code",
      "execution_count": 77,
      "metadata": {
        "colab": {
          "base_uri": "https://localhost:8080/"
        },
        "id": "tC4Ytza_VNmS",
        "outputId": "cbeba238-5cb6-4a86-a9ce-b8fdc7a285b8"
      },
      "outputs": [
        {
          "name": "stdout",
          "output_type": "stream",
          "text": [
            "Prediction : 2    Software Developer\n",
            "Name: ROLE, dtype: object\n"
          ]
        },
        {
          "name": "stderr",
          "output_type": "stream",
          "text": [
            "/usr/local/lib/python3.9/dist-packages/sklearn/base.py:439: UserWarning: X does not have valid feature names, but DecisionTreeClassifier was fitted with feature names\n",
            "  warnings.warn(\n"
          ]
        }
      ],
      "source": [
        "new_pred  = clf.predict([x_new])\n",
        "print(\"Prediction : {}\".format(y1[y1['Associated Number']==new_pred[0]]['ROLE']))"
      ]
    }
  ],
  "metadata": {
    "colab": {
      "provenance": []
    },
    "kernelspec": {
      "display_name": "Python 3",
      "name": "python3"
    },
    "language_info": {
      "codemirror_mode": {
        "name": "ipython",
        "version": 3
      },
      "file_extension": ".py",
      "mimetype": "text/x-python",
      "name": "python",
      "nbconvert_exporter": "python",
      "pygments_lexer": "ipython3",
      "version": "3.10.4"
    }
  },
  "nbformat": 4,
  "nbformat_minor": 0
}
